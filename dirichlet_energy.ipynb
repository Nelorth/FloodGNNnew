{
 "cells": [
  {
   "cell_type": "code",
   "execution_count": 4,
   "id": "0a0cc45b-ecf5-4848-a20b-bd671f78b67d",
   "metadata": {
    "execution": {
     "iopub.execute_input": "2023-04-23T11:57:52.501179Z",
     "iopub.status.busy": "2023-04-23T11:57:52.500876Z",
     "iopub.status.idle": "2023-04-23T11:57:54.054516Z",
     "shell.execute_reply": "2023-04-23T11:57:54.053727Z",
     "shell.execute_reply.started": "2023-04-23T11:57:52.501158Z"
    }
   },
   "outputs": [
    {
     "name": "stdout",
     "output_type": "stream",
     "text": [
      "\u001b[33mWARNING: Running pip as the 'root' user can result in broken permissions and conflicting behaviour with the system package manager. It is recommended to use a virtual environment instead: https://pip.pypa.io/warnings/venv\u001b[0m\u001b[33m\n",
      "\u001b[0mNote: you may need to restart the kernel to use updated packages.\n",
      "The autoreload extension is already loaded. To reload it, use:\n",
      "  %reload_ext autoreload\n"
     ]
    }
   ],
   "source": [
    "%pip install -q matplotlib networkx pandas torchinfo\n",
    "%load_ext autoreload\n",
    "%autoreload 2"
   ]
  },
  {
   "cell_type": "code",
   "execution_count": 5,
   "id": "6a471c24-3628-414c-846a-759abe26d932",
   "metadata": {
    "execution": {
     "iopub.execute_input": "2023-04-23T11:57:54.055985Z",
     "iopub.status.busy": "2023-04-23T11:57:54.055799Z",
     "iopub.status.idle": "2023-04-23T11:57:54.076889Z",
     "shell.execute_reply": "2023-04-23T11:57:54.076295Z",
     "shell.execute_reply.started": "2023-04-23T11:57:54.055967Z"
    }
   },
   "outputs": [],
   "source": [
    "import functions\n",
    "import matplotlib.pyplot as plt\n",
    "import torch\n",
    "\n",
    "from functools import partial"
   ]
  },
  {
   "cell_type": "code",
   "execution_count": 6,
   "id": "a4484948-09d5-4d8b-8242-9da7cbb7ea12",
   "metadata": {
    "execution": {
     "iopub.execute_input": "2023-04-23T11:57:54.078396Z",
     "iopub.status.busy": "2023-04-23T11:57:54.078219Z",
     "iopub.status.idle": "2023-04-23T13:46:51.967375Z",
     "shell.execute_reply": "2023-04-23T13:46:51.966598Z",
     "shell.execute_reply.started": "2023-04-23T11:57:54.078378Z"
    }
   },
   "outputs": [
    {
     "name": "stdout",
     "output_type": "stream",
     "text": [
      "Loading dataset into memory...\n"
     ]
    },
    {
     "name": "stderr",
     "output_type": "stream",
     "text": [
      "100%|██████████| 375/375 [00:29<00:00, 12.60it/s]\n",
      "Graph compilation: 100%|██████████| 100/100 [00:21<00:00]\n",
      "Testing: 100%|██████████| 17496/17496 [04:58<00:00, 58.55it/s]\n"
     ]
    },
    {
     "name": "stdout",
     "output_type": "stream",
     "text": [
      "Loading dataset into memory...\n"
     ]
    },
    {
     "name": "stderr",
     "output_type": "stream",
     "text": [
      "100%|██████████| 375/375 [00:27<00:00, 13.81it/s]\n",
      "Graph compilation: 100%|██████████| 100/100 [00:20<00:00]\n",
      "Testing: 100%|██████████| 17496/17496 [05:02<00:00, 57.77it/s]\n"
     ]
    },
    {
     "name": "stdout",
     "output_type": "stream",
     "text": [
      "Loading dataset into memory...\n"
     ]
    },
    {
     "name": "stderr",
     "output_type": "stream",
     "text": [
      "100%|██████████| 375/375 [00:27<00:00, 13.54it/s]\n",
      "Graph compilation: 100%|██████████| 100/100 [00:06<00:00]\n",
      "Testing: 100%|██████████| 17496/17496 [05:05<00:00, 57.25it/s]\n"
     ]
    },
    {
     "name": "stdout",
     "output_type": "stream",
     "text": [
      "Loading dataset into memory...\n"
     ]
    },
    {
     "name": "stderr",
     "output_type": "stream",
     "text": [
      "100%|██████████| 375/375 [00:27<00:00, 13.77it/s]\n",
      "Graph compilation: 100%|██████████| 100/100 [00:01<00:00]\n",
      "Testing: 100%|██████████| 17496/17496 [05:12<00:00, 56.03it/s]\n"
     ]
    },
    {
     "name": "stdout",
     "output_type": "stream",
     "text": [
      "Loading dataset into memory...\n"
     ]
    },
    {
     "name": "stderr",
     "output_type": "stream",
     "text": [
      "100%|██████████| 375/375 [00:27<00:00, 13.73it/s]\n",
      "Graph compilation: 100%|██████████| 100/100 [00:20<00:00]\n",
      "Testing: 100%|██████████| 17496/17496 [04:58<00:00, 58.56it/s]\n"
     ]
    },
    {
     "name": "stdout",
     "output_type": "stream",
     "text": [
      "Loading dataset into memory...\n"
     ]
    },
    {
     "name": "stderr",
     "output_type": "stream",
     "text": [
      "100%|██████████| 375/375 [00:27<00:00, 13.70it/s]\n",
      "Graph compilation: 100%|██████████| 100/100 [00:01<00:00]\n",
      "Testing: 100%|██████████| 17496/17496 [05:05<00:00, 57.21it/s]\n"
     ]
    },
    {
     "name": "stdout",
     "output_type": "stream",
     "text": [
      "Loading dataset into memory...\n"
     ]
    },
    {
     "name": "stderr",
     "output_type": "stream",
     "text": [
      "100%|██████████| 375/375 [00:27<00:00, 13.73it/s]\n",
      "Graph compilation: 100%|██████████| 100/100 [00:21<00:00]\n",
      "Testing: 100%|██████████| 17496/17496 [05:11<00:00, 56.14it/s]\n"
     ]
    },
    {
     "name": "stdout",
     "output_type": "stream",
     "text": [
      "Loading dataset into memory...\n"
     ]
    },
    {
     "name": "stderr",
     "output_type": "stream",
     "text": [
      "100%|██████████| 375/375 [00:27<00:00, 13.66it/s]\n",
      "Graph compilation: 100%|██████████| 100/100 [00:20<00:00]\n",
      "Testing: 100%|██████████| 17496/17496 [05:02<00:00, 57.91it/s]\n"
     ]
    },
    {
     "name": "stdout",
     "output_type": "stream",
     "text": [
      "Loading dataset into memory...\n"
     ]
    },
    {
     "name": "stderr",
     "output_type": "stream",
     "text": [
      "100%|██████████| 375/375 [00:27<00:00, 13.71it/s]\n",
      "Graph compilation: 100%|██████████| 100/100 [00:21<00:00]\n",
      "Testing: 100%|██████████| 17496/17496 [05:20<00:00, 54.60it/s]\n"
     ]
    },
    {
     "name": "stdout",
     "output_type": "stream",
     "text": [
      "Loading dataset into memory...\n"
     ]
    },
    {
     "name": "stderr",
     "output_type": "stream",
     "text": [
      "100%|██████████| 375/375 [00:27<00:00, 13.56it/s]\n",
      "Graph compilation: 100%|██████████| 100/100 [00:00<00:00]\n",
      "Testing: 100%|██████████| 17496/17496 [05:06<00:00, 57.06it/s]\n"
     ]
    },
    {
     "name": "stdout",
     "output_type": "stream",
     "text": [
      "Loading dataset into memory...\n"
     ]
    },
    {
     "name": "stderr",
     "output_type": "stream",
     "text": [
      "100%|██████████| 375/375 [00:27<00:00, 13.72it/s]\n",
      "Graph compilation: 100%|██████████| 100/100 [00:06<00:00]\n",
      "Testing: 100%|██████████| 17496/17496 [05:06<00:00, 57.15it/s]\n"
     ]
    },
    {
     "name": "stdout",
     "output_type": "stream",
     "text": [
      "Loading dataset into memory...\n"
     ]
    },
    {
     "name": "stderr",
     "output_type": "stream",
     "text": [
      "100%|██████████| 375/375 [00:27<00:00, 13.77it/s]\n",
      "Graph compilation: 100%|██████████| 100/100 [00:00<00:00]\n",
      "Testing: 100%|██████████| 17496/17496 [05:00<00:00, 58.23it/s]\n"
     ]
    },
    {
     "name": "stdout",
     "output_type": "stream",
     "text": [
      "Loading dataset into memory...\n"
     ]
    },
    {
     "name": "stderr",
     "output_type": "stream",
     "text": [
      "100%|██████████| 375/375 [00:27<00:00, 13.81it/s]\n",
      "Graph compilation: 100%|██████████| 100/100 [00:21<00:00]\n",
      "Testing: 100%|██████████| 17496/17496 [05:18<00:00, 54.95it/s]\n"
     ]
    },
    {
     "name": "stdout",
     "output_type": "stream",
     "text": [
      "Loading dataset into memory...\n"
     ]
    },
    {
     "name": "stderr",
     "output_type": "stream",
     "text": [
      "100%|██████████| 375/375 [00:27<00:00, 13.70it/s]\n",
      "Graph compilation: 100%|██████████| 100/100 [00:26<00:00]\n",
      "Testing: 100%|██████████| 17496/17496 [05:03<00:00, 57.68it/s]\n"
     ]
    },
    {
     "name": "stdout",
     "output_type": "stream",
     "text": [
      "Loading dataset into memory...\n"
     ]
    },
    {
     "name": "stderr",
     "output_type": "stream",
     "text": [
      "100%|██████████| 375/375 [00:27<00:00, 13.75it/s]\n",
      "Graph compilation: 100%|██████████| 100/100 [00:00<00:00]\n",
      "Testing: 100%|██████████| 17496/17496 [05:04<00:00, 57.39it/s]\n"
     ]
    },
    {
     "name": "stdout",
     "output_type": "stream",
     "text": [
      "Loading dataset into memory...\n"
     ]
    },
    {
     "name": "stderr",
     "output_type": "stream",
     "text": [
      "100%|██████████| 375/375 [00:27<00:00, 13.68it/s]\n",
      "Graph compilation: 100%|██████████| 100/100 [00:00<00:00]\n",
      "Testing: 100%|██████████| 17496/17496 [05:20<00:00, 54.54it/s]\n"
     ]
    },
    {
     "name": "stdout",
     "output_type": "stream",
     "text": [
      "Loading dataset into memory...\n"
     ]
    },
    {
     "name": "stderr",
     "output_type": "stream",
     "text": [
      "100%|██████████| 375/375 [00:27<00:00, 13.77it/s]\n",
      "Graph compilation: 100%|██████████| 100/100 [00:01<00:00]\n",
      "Testing: 100%|██████████| 17496/17496 [05:00<00:00, 58.20it/s]\n"
     ]
    },
    {
     "name": "stdout",
     "output_type": "stream",
     "text": [
      "Loading dataset into memory...\n"
     ]
    },
    {
     "name": "stderr",
     "output_type": "stream",
     "text": [
      "100%|██████████| 375/375 [00:27<00:00, 13.47it/s]\n",
      "Graph compilation: 100%|██████████| 100/100 [00:22<00:00]\n",
      "Testing: 100%|██████████| 17496/17496 [05:04<00:00, 57.46it/s]\n"
     ]
    }
   ],
   "source": [
    "results = {edge_dir: functions.evaluate_directory(f\"runs/resgcn_adj_type_{edge_dir}\",\n",
    "                                                  partial(functions.evaluate_dirichlet_energy, on_ipu=True),\n",
    "                                                  lambda chkpt: chkpt[\"hparams\"][\"model\"][\"adjacency_type\"])\n",
    "           for edge_dir in [\"downstream\", \"upstream\", \"bidirectional\"]}"
   ]
  },
  {
   "cell_type": "code",
   "execution_count": 7,
   "id": "3cac20c0-11c2-48a9-8327-919df68486f4",
   "metadata": {
    "execution": {
     "iopub.execute_input": "2023-04-23T13:46:51.969257Z",
     "iopub.status.busy": "2023-04-23T13:46:51.969062Z",
     "iopub.status.idle": "2023-04-23T13:46:53.402081Z",
     "shell.execute_reply": "2023-04-23T13:46:53.401417Z",
     "shell.execute_reply.started": "2023-04-23T13:46:51.969239Z"
    }
   },
   "outputs": [
    {
     "data": {
      "image/png": "[encoded data removed]",
      "text/plain": [
       "<Figure size 720x432 with 6 Axes>"
      ]
     },
     "metadata": {
      "needs_background": "light"
     },
     "output_type": "display_data"
    }
   ],
   "source": [
    "plt.figure(figsize=(10, 6))\n",
    "i = 0\n",
    "for i, a in enumerate([\"isolated\", \"binary\", \"learned\", \"stream_length\", \"elevation_difference\", \"average_slope\"]):\n",
    "    plt.subplot(2, 3, i + 1)\n",
    "    plt.ticklabel_format(axis='y', style='sci', scilimits=(0, 0))\n",
    "    plt.title(a.replace(\"_\", \" \"))\n",
    "    for e in [\"downstream\", \"upstream\", \"bidirectional\"]:\n",
    "        dirichlet_evo = results[e][a]\n",
    "        time = list(range(dirichlet_evo.size(1)))\n",
    "        plt.plot(time, dirichlet_evo.mean(dim=0), label=e)\n",
    "        plt.xlim(time[0], time[-1])\n",
    "    if i // 3 == 1:\n",
    "        plt.xlabel(\"layer\")\n",
    "    if i % 3 == 0:\n",
    "        plt.ylabel(\"dirichlet energy\")\n",
    "    plt.legend(loc=\"upper left\")\n",
    "plt.tight_layout()\n",
    "plt.savefig(\"dirichlet_energies_resgcn.pdf\")\n",
    "plt.show()"
   ]
  }
 ],
 "metadata": {
  "kernelspec": {
   "display_name": "Python 3",
   "language": "python",
   "name": "python3"
  },
  "language_info": {
   "codemirror_mode": {
    "name": "ipython",
    "version": 3
   },
   "file_extension": ".py",
   "mimetype": "text/x-python",
   "name": "python",
   "nbconvert_exporter": "python",
   "pygments_lexer": "ipython3",
   "version": "3.8.10"
  }
 },
 "nbformat": 4,
 "nbformat_minor": 5
}
