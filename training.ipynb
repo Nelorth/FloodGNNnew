{
 "cells": [
  {
   "cell_type": "code",
   "execution_count": 1,
   "metadata": {
    "execution": {
     "iopub.execute_input": "2023-04-24T15:35:51.883633Z",
     "iopub.status.busy": "2023-04-24T15:35:51.883356Z",
     "iopub.status.idle": "2023-04-24T15:36:01.438318Z",
     "shell.execute_reply": "2023-04-24T15:36:01.437261Z",
     "shell.execute_reply.started": "2023-04-24T15:35:51.883612Z"
    }
   },
   "outputs": [
    {
     "name": "stdout",
     "output_type": "stream",
     "text": [
      "\u001b[33mWARNING: Running pip as the 'root' user can result in broken permissions and conflicting behaviour with the system package manager. It is recommended to use a virtual environment instead: https://pip.pypa.io/warnings/venv\u001b[0m\u001b[33m\n",
      "\u001b[0mNote: you may need to restart the kernel to use updated packages.\n"
     ]
    }
   ],
   "source": [
    "%pip install -q matplotlib networkx pandas torchinfo torch-geometric\n",
    "%load_ext autoreload\n",
    "%autoreload 2"
   ]
  },
  {
   "cell_type": "code",
   "execution_count": 1,
   "metadata": {
    "execution": {
     "iopub.execute_input": "2023-04-24T15:36:01.439556Z",
     "iopub.status.busy": "2023-04-24T15:36:01.439381Z",
     "iopub.status.idle": "2023-04-24T15:36:05.051472Z",
     "shell.execute_reply": "2023-04-24T15:36:05.050786Z",
     "shell.execute_reply.started": "2023-04-24T15:36:01.439536Z"
    },
    "id": "t441Wt-pO5Fo"
   },
   "outputs": [],
   "source": [
    "import functions"
   ]
  },
  {
   "cell_type": "code",
   "execution_count": 2,
   "metadata": {
    "execution": {
     "iopub.execute_input": "2023-04-24T15:36:05.052935Z",
     "iopub.status.busy": "2023-04-24T15:36:05.052683Z",
     "iopub.status.idle": "2023-04-24T15:36:05.070916Z",
     "shell.execute_reply": "2023-04-24T15:36:05.070340Z",
     "shell.execute_reply.started": "2023-04-24T15:36:05.052916Z"
    },
    "id": "2WtQH9ixOo7R"
   },
   "outputs": [],
   "source": [
    "HPARAMS = {\n",
    "    \"data\": {\n",
    "        \"window_size\": 24,\n",
    "        \"stride_length\": 1,\n",
    "        \"lead_time\": 1,\n",
    "        \"normalized\": True\n",
    "    },\n",
    "    \"model\": {\n",
    "        \"architecture\": \"ResGCN\",\n",
    "        \"num_layers\": 20,\n",
    "        \"hidden_channels\": 64,\n",
    "        \"param_sharing\": False,\n",
    "        \"graff_step_size\": 1,\n",
    "        \"edge_orientation\": \"downstream\",\n",
    "        \"adjacency_type\": \"learned\"\n",
    "    },\n",
    "    \"training\": {\n",
    "        \"num_epochs\": 20,\n",
    "        \"batch_size\": 16,\n",
    "        \"learning_rate\": 1e-4,\n",
    "        \"weight_decay\": 0,\n",
    "        \"random_seed\": 42,\n",
    "        \"holdout_size\": 0.25\n",
    "    }\n",
    "}"
   ]
  },
  {
   "cell_type": "code",
   "execution_count": 3,
   "metadata": {
    "execution": {
     "iopub.execute_input": "2023-04-24T15:36:05.071879Z",
     "iopub.status.busy": "2023-04-24T15:36:05.071706Z",
     "iopub.status.idle": "2023-04-24T15:36:05.105240Z",
     "shell.execute_reply": "2023-04-24T15:36:05.104600Z",
     "shell.execute_reply.started": "2023-04-24T15:36:05.071861Z"
    },
    "id": "cSz0Dz2zkKGg"
   },
   "outputs": [],
   "source": [
    "functions.ensure_reproducibility(HPARAMS[\"training\"][\"random_seed\"])"
   ]
  },
  {
   "cell_type": "code",
   "execution_count": null,
   "metadata": {
    "colab": {
     "base_uri": "https://localhost:8080/",
     "height": 517
    },
    "execution": {
     "iopub.execute_input": "2023-04-24T15:36:05.106108Z",
     "iopub.status.busy": "2023-04-24T15:36:05.105925Z"
    },
    "id": "JDW3LJlrbtfX",
    "outputId": "de09d2bd-7aac-417f-f875-5b308ca23a09"
   },
   "outputs": [
    {
     "name": "stdout",
     "output_type": "stream",
     "text": [
      "Loading dataset into memory...\n"
     ]
    },
    {
     "name": "stderr",
     "output_type": "stream",
     "text": [
      " 87%|███████████████████████████████████████████████████████████████████████████████████████████████████████████████████████████████████████████████                     | 327/375 [00:28<00:04, 10.97it/s]"
     ]
    }
   ],
   "source": [
    "for value in [\"isolated\", \"binary\", \"stream_length\", \"elevation_difference\", \"average_slope\", \"learned\"]:\n",
    "    HPARAMS[\"model\"][\"adjacency_type\"] = value\n",
    "    dataset = functions.load_dataset(HPARAMS, \"train\")\n",
    "    model = functions.construct_model(HPARAMS, dataset)\n",
    "    history = functions.train(model, dataset, HPARAMS, save_dir=\"runs/resgcn_adj_type_downstream\")"
   ]
  }
 ],
 "metadata": {
  "accelerator": "GPU",
  "colab": {
   "provenance": []
  },
  "gpuClass": "standard",
  "kernelspec": {
   "display_name": "Python 3 (ipykernel)",
   "language": "python",
   "name": "python3"
  },
  "language_info": {
   "codemirror_mode": {
    "name": "ipython",
    "version": 3
   },
   "file_extension": ".py",
   "mimetype": "text/x-python",
   "name": "python",
   "nbconvert_exporter": "python",
   "pygments_lexer": "ipython3",
   "version": "3.11.4"
  }
 },
 "nbformat": 4,
 "nbformat_minor": 4
}
