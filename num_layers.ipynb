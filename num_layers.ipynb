{
 "cells": [
  {
   "cell_type": "code",
   "execution_count": 6,
   "id": "91fe253a-6e7d-4e18-acd5-9c4746697798",
   "metadata": {
    "execution": {
     "iopub.execute_input": "2023-04-23T15:47:09.736700Z",
     "iopub.status.busy": "2023-04-23T15:47:09.736361Z",
     "iopub.status.idle": "2023-04-23T15:47:11.816037Z",
     "shell.execute_reply": "2023-04-23T15:47:11.815390Z",
     "shell.execute_reply.started": "2023-04-23T15:47:09.736671Z"
    }
   },
   "outputs": [
    {
     "name": "stdout",
     "output_type": "stream",
     "text": [
      "\u001b[33mWARNING: Running pip as the 'root' user can result in broken permissions and conflicting behaviour with the system package manager. It is recommended to use a virtual environment instead: https://pip.pypa.io/warnings/venv\u001b[0m\u001b[33m\n",
      "\u001b[0mNote: you may need to restart the kernel to use updated packages.\n",
      "The autoreload extension is already loaded. To reload it, use:\n",
      "  %reload_ext autoreload\n"
     ]
    }
   ],
   "source": [
    "%pip install -q matplotlib networkx pandas torchinfo\n",
    "%load_ext autoreload\n",
    "%autoreload 2"
   ]
  },
  {
   "cell_type": "code",
   "execution_count": 7,
   "id": "3e41f5ec-7095-4b4c-98d2-175fd973d902",
   "metadata": {
    "execution": {
     "iopub.execute_input": "2023-04-23T15:47:11.817303Z",
     "iopub.status.busy": "2023-04-23T15:47:11.817121Z",
     "iopub.status.idle": "2023-04-23T15:47:11.873477Z",
     "shell.execute_reply": "2023-04-23T15:47:11.872914Z",
     "shell.execute_reply.started": "2023-04-23T15:47:11.817284Z"
    }
   },
   "outputs": [],
   "source": [
    "import functions\n",
    "import matplotlib.pyplot as plt\n",
    "import matplotlib.ticker as mtick\n",
    "\n",
    "from functools import partial"
   ]
  },
  {
   "cell_type": "code",
   "execution_count": 8,
   "id": "69a62b30-f81b-4f1b-83b4-dbdf3dbdc12b",
   "metadata": {
    "execution": {
     "iopub.execute_input": "2023-04-23T15:47:11.880221Z",
     "iopub.status.busy": "2023-04-23T15:47:11.877861Z",
     "iopub.status.idle": "2023-04-23T16:15:27.901295Z",
     "shell.execute_reply": "2023-04-23T16:15:27.900554Z",
     "shell.execute_reply.started": "2023-04-23T15:47:11.880199Z"
    }
   },
   "outputs": [
    {
     "name": "stdout",
     "output_type": "stream",
     "text": [
      "Loading dataset into memory...\n"
     ]
    },
    {
     "name": "stderr",
     "output_type": "stream",
     "text": [
      "100%|██████████| 375/375 [00:47<00:00,  7.92it/s]\n",
      "Graph compilation: 100%|██████████| 100/100 [00:23<00:00]\n",
      "Testing: 100%|██████████| 17496/17496 [00:11<00:00, 1534.89it/s]\n"
     ]
    },
    {
     "name": "stdout",
     "output_type": "stream",
     "text": [
      "Loading dataset into memory...\n"
     ]
    },
    {
     "name": "stderr",
     "output_type": "stream",
     "text": [
      "100%|██████████| 375/375 [00:40<00:00,  9.32it/s]\n",
      "Graph compilation: 100%|██████████| 100/100 [00:24<00:00]\n",
      "Testing: 100%|██████████| 17496/17496 [00:17<00:00, 1014.39it/s]\n"
     ]
    },
    {
     "name": "stdout",
     "output_type": "stream",
     "text": [
      "Loading dataset into memory...\n"
     ]
    },
    {
     "name": "stderr",
     "output_type": "stream",
     "text": [
      "100%|██████████| 375/375 [00:45<00:00,  8.28it/s]\n",
      "Graph compilation: 100%|██████████| 100/100 [00:26<00:00]\n",
      "Testing: 100%|██████████| 17496/17496 [00:18<00:00, 962.41it/s]\n"
     ]
    },
    {
     "name": "stdout",
     "output_type": "stream",
     "text": [
      "Loading dataset into memory...\n"
     ]
    },
    {
     "name": "stderr",
     "output_type": "stream",
     "text": [
      "100%|██████████| 375/375 [00:45<00:00,  8.18it/s]\n",
      "Graph compilation: 100%|██████████| 100/100 [00:20<00:00]\n",
      "Testing: 100%|██████████| 17496/17496 [00:15<00:00, 1163.16it/s]\n"
     ]
    },
    {
     "name": "stdout",
     "output_type": "stream",
     "text": [
      "Loading dataset into memory...\n"
     ]
    },
    {
     "name": "stderr",
     "output_type": "stream",
     "text": [
      "100%|██████████| 375/375 [00:46<00:00,  8.12it/s]\n",
      "Graph compilation: 100%|██████████| 100/100 [00:22<00:00]\n",
      "Testing: 100%|██████████| 17496/17496 [00:15<00:00, 1101.16it/s]\n"
     ]
    },
    {
     "name": "stdout",
     "output_type": "stream",
     "text": [
      "Loading dataset into memory...\n"
     ]
    },
    {
     "name": "stderr",
     "output_type": "stream",
     "text": [
      "100%|██████████| 375/375 [00:45<00:00,  8.18it/s]\n",
      "Graph compilation: 100%|██████████| 100/100 [00:13<00:00]\n",
      "Testing: 100%|██████████| 17496/17496 [00:12<00:00, 1420.03it/s]\n"
     ]
    },
    {
     "name": "stdout",
     "output_type": "stream",
     "text": [
      "Loading dataset into memory...\n"
     ]
    },
    {
     "name": "stderr",
     "output_type": "stream",
     "text": [
      "100%|██████████| 375/375 [00:39<00:00,  9.54it/s]\n",
      "Graph compilation: 100%|██████████| 100/100 [00:30<00:00]\n",
      "Testing: 100%|██████████| 17496/17496 [00:20<00:00, 871.66it/s]\n"
     ]
    },
    {
     "name": "stdout",
     "output_type": "stream",
     "text": [
      "Loading dataset into memory...\n"
     ]
    },
    {
     "name": "stderr",
     "output_type": "stream",
     "text": [
      "100%|██████████| 375/375 [00:45<00:00,  8.18it/s]\n",
      "Graph compilation: 100%|██████████| 100/100 [00:26<00:00]\n",
      "Testing: 100%|██████████| 17496/17496 [00:19<00:00, 891.30it/s]\n"
     ]
    },
    {
     "name": "stdout",
     "output_type": "stream",
     "text": [
      "Loading dataset into memory...\n"
     ]
    },
    {
     "name": "stderr",
     "output_type": "stream",
     "text": [
      "100%|██████████| 375/375 [00:45<00:00,  8.33it/s]\n",
      "Graph compilation: 100%|██████████| 100/100 [00:13<00:00]\n",
      "Testing: 100%|██████████| 17496/17496 [00:10<00:00, 1721.82it/s]\n"
     ]
    },
    {
     "name": "stdout",
     "output_type": "stream",
     "text": [
      "Loading dataset into memory...\n"
     ]
    },
    {
     "name": "stderr",
     "output_type": "stream",
     "text": [
      "100%|██████████| 375/375 [00:44<00:00,  8.34it/s]\n",
      "Graph compilation: 100%|██████████| 100/100 [00:16<00:00]\n",
      "Testing: 100%|██████████| 17496/17496 [00:12<00:00, 1402.83it/s]\n"
     ]
    },
    {
     "name": "stdout",
     "output_type": "stream",
     "text": [
      "Loading dataset into memory...\n"
     ]
    },
    {
     "name": "stderr",
     "output_type": "stream",
     "text": [
      "100%|██████████| 375/375 [00:45<00:00,  8.16it/s]\n",
      "Graph compilation: 100%|██████████| 100/100 [00:24<00:00]\n",
      "Testing: 100%|██████████| 17496/17496 [00:16<00:00, 1058.05it/s]\n"
     ]
    },
    {
     "name": "stdout",
     "output_type": "stream",
     "text": [
      "Loading dataset into memory...\n"
     ]
    },
    {
     "name": "stderr",
     "output_type": "stream",
     "text": [
      "100%|██████████| 375/375 [00:43<00:00,  8.68it/s]\n",
      "Graph compilation: 100%|██████████| 100/100 [00:12<00:00]\n",
      "Testing: 100%|██████████| 17496/17496 [00:10<00:00, 1644.81it/s]\n"
     ]
    },
    {
     "name": "stdout",
     "output_type": "stream",
     "text": [
      "Loading dataset into memory...\n"
     ]
    },
    {
     "name": "stderr",
     "output_type": "stream",
     "text": [
      "100%|██████████| 375/375 [00:42<00:00,  8.90it/s]\n",
      "Graph compilation: 100%|██████████| 100/100 [00:13<00:00]\n",
      "Testing: 100%|██████████| 17496/17496 [00:10<00:00, 1746.10it/s]\n"
     ]
    },
    {
     "name": "stdout",
     "output_type": "stream",
     "text": [
      "Loading dataset into memory...\n"
     ]
    },
    {
     "name": "stderr",
     "output_type": "stream",
     "text": [
      "100%|██████████| 375/375 [00:46<00:00,  8.10it/s]\n",
      "Graph compilation: 100%|██████████| 100/100 [00:29<00:00]\n",
      "Testing: 100%|██████████| 17496/17496 [00:19<00:00, 905.07it/s]\n"
     ]
    },
    {
     "name": "stdout",
     "output_type": "stream",
     "text": [
      "Loading dataset into memory...\n"
     ]
    },
    {
     "name": "stderr",
     "output_type": "stream",
     "text": [
      "100%|██████████| 375/375 [00:44<00:00,  8.34it/s]\n",
      "Graph compilation: 100%|██████████| 100/100 [00:22<00:00]\n",
      "Testing: 100%|██████████| 17496/17496 [00:15<00:00, 1161.96it/s]\n"
     ]
    },
    {
     "name": "stdout",
     "output_type": "stream",
     "text": [
      "Loading dataset into memory...\n"
     ]
    },
    {
     "name": "stderr",
     "output_type": "stream",
     "text": [
      "100%|██████████| 375/375 [00:46<00:00,  8.00it/s]\n",
      "Graph compilation: 100%|██████████| 100/100 [00:14<00:00]\n",
      "Testing: 100%|██████████| 17496/17496 [00:11<00:00, 1561.68it/s]\n"
     ]
    },
    {
     "name": "stdout",
     "output_type": "stream",
     "text": [
      "Loading dataset into memory...\n"
     ]
    },
    {
     "name": "stderr",
     "output_type": "stream",
     "text": [
      "100%|██████████| 375/375 [00:45<00:00,  8.18it/s]\n",
      "Graph compilation: 100%|██████████| 100/100 [00:26<00:00]\n",
      "Testing: 100%|██████████| 17496/17496 [00:14<00:00, 1167.64it/s]\n"
     ]
    },
    {
     "name": "stdout",
     "output_type": "stream",
     "text": [
      "Loading dataset into memory...\n"
     ]
    },
    {
     "name": "stderr",
     "output_type": "stream",
     "text": [
      "100%|██████████| 375/375 [00:30<00:00, 12.25it/s]\n",
      "Graph compilation: 100%|██████████| 100/100 [00:28<00:00]\n",
      "Testing: 100%|██████████| 17496/17496 [00:18<00:00, 954.24it/s]\n"
     ]
    },
    {
     "name": "stdout",
     "output_type": "stream",
     "text": [
      "Loading dataset into memory...\n"
     ]
    },
    {
     "name": "stderr",
     "output_type": "stream",
     "text": [
      "100%|██████████| 375/375 [00:46<00:00,  8.04it/s]\n",
      "Graph compilation: 100%|██████████| 100/100 [00:18<00:00]\n",
      "Testing: 100%|██████████| 17496/17496 [00:12<00:00, 1411.02it/s]\n"
     ]
    },
    {
     "name": "stdout",
     "output_type": "stream",
     "text": [
      "Loading dataset into memory...\n"
     ]
    },
    {
     "name": "stderr",
     "output_type": "stream",
     "text": [
      "100%|██████████| 375/375 [00:36<00:00, 10.40it/s]\n",
      "Graph compilation: 100%|██████████| 100/100 [00:20<00:00]\n",
      "Testing: 100%|██████████| 17496/17496 [00:14<00:00, 1236.51it/s]\n"
     ]
    }
   ],
   "source": [
    "binary_results = functions.evaluate_directory(\"runs/num_layers_binary\", \n",
    "                                              partial(functions.evaluate_mse_nse, on_ipu=True),\n",
    "                                              lambda chkpt: chkpt[\"hparams\"][\"model\"][\"num_layers\"])\n",
    "isolated_results = functions.evaluate_directory(\"runs/num_layers_isolated\",\n",
    "                                                partial(functions.evaluate_mse_nse, on_ipu=True),\n",
    "                                                lambda chkpt: chkpt[\"hparams\"][\"model\"][\"num_layers\"])"
   ]
  },
  {
   "cell_type": "code",
   "execution_count": 10,
   "id": "9382dc07-ac38-4704-8797-a7da54a09d6a",
   "metadata": {
    "execution": {
     "iopub.execute_input": "2023-04-23T16:32:12.798669Z",
     "iopub.status.busy": "2023-04-23T16:32:12.798258Z",
     "iopub.status.idle": "2023-04-23T16:32:13.729965Z",
     "shell.execute_reply": "2023-04-23T16:32:13.707234Z",
     "shell.execute_reply.started": "2023-04-23T16:32:12.798641Z"
    }
   },
   "outputs": [
    {
     "data": {
      "image/png": "[encoded data removed]",
      "text/plain": [
       "<Figure size 864x345.6 with 2 Axes>"
      ]
     },
     "metadata": {
      "needs_background": "light"
     },
     "output_type": "display_data"
    }
   ],
   "source": [
    "# 95% confidence interval\n",
    "conf = lambda t:  1.96 * t.std() / (len(t) ** 0.5)\n",
    "lo = lambda t: t.mean() - conf(t)\n",
    "hi = lambda t: t.mean() + conf(t)\n",
    "\n",
    "binary_keys, binary_vals = zip(*sorted(binary_results.items()))\n",
    "binary_mse_means, binary_nse_means, binary_mse_hi, binary_nse_hi, binary_mse_lo, binary_nse_lo = zip(\n",
    "    *[(m.mean(), n.mean(), hi(m), hi(n), lo(m), lo(n)) for m, n in binary_vals]\n",
    ")\n",
    "isolated_keys, isolated_vals = zip(*sorted(isolated_results.items()))\n",
    "isolated_mse_means, isolated_nse_means, isolated_mse_hi, isolated_nse_hi, isolated_mse_lo, isolated_nse_lo = zip(\n",
    "    *[(m.mean(), n.mean(), hi(m), hi(n), lo(m), lo(n)) for m, n in isolated_vals]\n",
    ")\n",
    "\n",
    "layer_nums = range(2, 21, 2)\n",
    "plt.figure(figsize=(12, 4.8))\n",
    "plt.subplot(1, 2, 1)\n",
    "plt.plot(binary_keys, binary_mse_means, label=\"binary\")\n",
    "plt.fill_between(binary_keys, binary_mse_hi, binary_mse_lo, alpha=0.1)\n",
    "plt.plot(isolated_keys, isolated_mse_means, label=\"isolated\")\n",
    "plt.fill_between(isolated_keys, isolated_mse_hi, isolated_mse_lo, alpha=0.1)\n",
    "plt.xlim((min(layer_nums), max(layer_nums)))\n",
    "plt.ylim((0, 70))\n",
    "plt.xlabel(\"# layers\")\n",
    "plt.ylabel(\"MSE\")\n",
    "plt.legend()\n",
    "plt.subplot(1, 2, 2)\n",
    "plt.plot(binary_keys, binary_nse_means, label=\"binary\")\n",
    "plt.fill_between(binary_keys, binary_nse_hi, binary_nse_lo, alpha=0.1)\n",
    "plt.plot(isolated_keys, isolated_nse_means, label=\"isolated\")\n",
    "plt.fill_between(isolated_keys, isolated_nse_hi, isolated_nse_lo, alpha=0.1)\n",
    "plt.xlim((min(layer_nums), max(layer_nums)))\n",
    "plt.ylim((0.97, 1))\n",
    "plt.xlabel(\"# layers\")\n",
    "plt.ylabel(\"NSE\")\n",
    "plt.legend()\n",
    "plt.gca().yaxis.set_major_formatter(mtick.PercentFormatter(xmax=1.0, decimals=1))\n",
    "plt.tight_layout()\n",
    "plt.savefig(\"num_layers.pdf\")\n",
    "plt.show()"
   ]
  }
 ],
 "metadata": {
  "kernelspec": {
   "display_name": "Python 3",
   "language": "python",
   "name": "python3"
  },
  "language_info": {
   "codemirror_mode": {
    "name": "ipython",
    "version": 3
   },
   "file_extension": ".py",
   "mimetype": "text/x-python",
   "name": "python",
   "nbconvert_exporter": "python",
   "pygments_lexer": "ipython3",
   "version": "3.8.10"
  }
 },
 "nbformat": 4,
 "nbformat_minor": 5
}
