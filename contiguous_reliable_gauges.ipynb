{
 "cells": [
  {
   "cell_type": "code",
   "execution_count": 2,
   "id": "01af8d4d",
   "metadata": {},
   "outputs": [],
   "source": [
    "import pandas as pd\n",
    "\n",
    "from tqdm import tqdm"
   ]
  },
  {
   "cell_type": "code",
   "execution_count": 5,
   "id": "3d97fb40",
   "metadata": {},
   "outputs": [],
   "source": [
    "stream_dist = pd.read_csv(\"LamaH-CE/raw/B_basins_intermediate_all/1_attributes/Stream_dist.csv\", sep=\";\")"
   ]
  },
  {
   "cell_type": "code",
   "execution_count": 37,
   "id": "dfd4342c",
   "metadata": {},
   "outputs": [],
   "source": [
    "def check_reliable(gauge_id):\n",
    "    ts = pd.read_csv(f\"LamaH-CE/raw/D_gauges/2_timeseries/hourly/ID_{gauge_id}.csv\",\n",
    "                         sep=\";\", usecols=[\"YYYY\", \"MM\", \"DD\", \"hh\", \"mm\", \"qobs\"])\n",
    "    if (ts[\"qobs\"] >= 0).all():\n",
    "        sub_ts = ts[(ts[\"YYYY\"] >= 2000) & (ts[\"YYYY\"] <= 2017)]\n",
    "        if len(sub_ts) == (18 * 365 + 5) * 24:  # number of hours in 2000-2017\n",
    "            return True\n",
    "    return False\n",
    "\n",
    "def discover_reliable_gauges(gauge_id):\n",
    "    if not check_reliable(gauge_id):\n",
    "        return {}\n",
    "    \n",
    "    predecessors = set(stream_dist[stream_dist[\"NEXTDOWNID\"] == gauge_id][\"ID\"])\n",
    "    return {gauge_id}.union(*(discover_reliable_gauges(pred) for pred in predecessors))"
   ]
  },
  {
   "cell_type": "code",
   "execution_count": 50,
   "id": "d52b1f61",
   "metadata": {},
   "outputs": [
    {
     "name": "stderr",
     "output_type": "stream",
     "text": [
      "100%|█████████████████████████████████████████████████████████████████████████████████| 882/882 [04:50<00:00,  3.03it/s]\n"
     ]
    }
   ],
   "source": [
    "results = {}\n",
    "for i in tqdm(range(1, 883)):\n",
    "    results[i] = discover_reliable_gauges(i)"
   ]
  },
  {
   "cell_type": "code",
   "execution_count": 56,
   "id": "89e66ea2",
   "metadata": {},
   "outputs": [
    {
     "data": {
      "text/plain": [
       "59"
      ]
     },
     "execution_count": 56,
     "metadata": {},
     "output_type": "execute_result"
    }
   ],
   "source": [
    "max(map(len, results.values()))"
   ]
  }
 ],
 "metadata": {
  "kernelspec": {
   "display_name": "Python 3 (ipykernel)",
   "language": "python",
   "name": "python3"
  },
  "language_info": {
   "codemirror_mode": {
    "name": "ipython",
    "version": 3
   },
   "file_extension": ".py",
   "mimetype": "text/x-python",
   "name": "python",
   "nbconvert_exporter": "python",
   "pygments_lexer": "ipython3",
   "version": "3.11.4"
  }
 },
 "nbformat": 4,
 "nbformat_minor": 5
}
