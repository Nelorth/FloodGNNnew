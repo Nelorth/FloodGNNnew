{
 "cells": [
  {
   "cell_type": "code",
   "execution_count": 1,
   "id": "294e0cc8-3171-48fa-ab74-1336baa2f4b3",
   "metadata": {
    "execution": {
     "iopub.execute_input": "2023-04-23T14:05:13.319024Z",
     "iopub.status.busy": "2023-04-23T14:05:13.318787Z",
     "iopub.status.idle": "2023-04-23T14:05:13.339560Z",
     "shell.execute_reply": "2023-04-23T14:05:13.339038Z",
     "shell.execute_reply.started": "2023-04-23T14:05:13.319001Z"
    }
   },
   "outputs": [],
   "source": [
    "import functions\n",
    "import matplotlib.pyplot as plt\n",
    "import pandas as pd\n",
    "import torch"
   ]
  },
  {
   "cell_type": "code",
   "execution_count": 2,
   "id": "b55a3015",
   "metadata": {},
   "outputs": [],
   "source": [
    "DATASET_PATH = \"/scratch/kirschstein/LamaH-CE\"\n",
    "CHECKPOINT_DIR = \"./runs/topology\""
   ]
  },
  {
   "cell_type": "code",
   "execution_count": 3,
   "id": "1db0a41d",
   "metadata": {},
   "outputs": [],
   "source": [
    "adj_df = pd.read_csv(f\"{DATASET_PATH}/processed/adjacency.csv\")\n",
    "weight_cols = adj_df[[\"dist_hdn\", \"elev_diff\", \"strm_slope\"]].values\n",
    "stream_length = torch.tensor(weight_cols[:, 0], dtype=torch.float)\n",
    "elevation_difference = torch.tensor(weight_cols[:, 1], dtype=torch.float)\n",
    "average_slope = torch.tensor(weight_cols[:, 2], dtype=torch.float)"
   ]
  },
  {
   "cell_type": "code",
   "execution_count": 4,
   "id": "8d2bf516-fcda-484f-bd45-ae60c3e6614a",
   "metadata": {
    "execution": {
     "iopub.execute_input": "2023-04-23T14:11:53.469015Z",
     "iopub.status.busy": "2023-04-23T14:11:53.468745Z",
     "iopub.status.idle": "2023-04-23T14:11:53.492694Z",
     "shell.execute_reply": "2023-04-23T14:11:53.492020Z",
     "shell.execute_reply.started": "2023-04-23T14:11:53.468993Z"
    }
   },
   "outputs": [
    {
     "name": "stdout",
     "output_type": "stream",
     "text": [
      "ResGCN downstream\n",
      "correlation matrix mean:\n",
      "tensor([[ 1.0000, -0.2213,  0.1000,  0.1683],\n",
      "        [-0.2213,  1.0000,  0.3331, -0.1741],\n",
      "        [ 0.1000,  0.3331,  1.0000,  0.5844],\n",
      "        [ 0.1683, -0.1741,  0.5844,  1.0000]])\n",
      "correlation matrix std:\n",
      "tensor([[6.1559e-08, 9.8565e-02, 2.1019e-02, 3.8168e-02],\n",
      "        [9.8565e-02, 0.0000e+00, 0.0000e+00, 0.0000e+00],\n",
      "        [2.1019e-02, 0.0000e+00, 0.0000e+00, 0.0000e+00],\n",
      "        [3.8168e-02, 0.0000e+00, 0.0000e+00, 0.0000e+00]])\n",
      "\n",
      "ResGCN upstream\n",
      "correlation matrix mean:\n",
      "tensor([[ 1.0000,  0.0422, -0.3080, -0.2930],\n",
      "        [ 0.0422,  1.0000,  0.3331, -0.1741],\n",
      "        [-0.3080,  0.3331,  1.0000,  0.5844],\n",
      "        [-0.2930, -0.1741,  0.5844,  1.0000]])\n",
      "correlation matrix std:\n",
      "tensor([[0.0000, 0.0075, 0.0145, 0.0092],\n",
      "        [0.0075, 0.0000, 0.0000, 0.0000],\n",
      "        [0.0145, 0.0000, 0.0000, 0.0000],\n",
      "        [0.0092, 0.0000, 0.0000, 0.0000]])\n",
      "\n",
      "ResGCN bidirectional\n",
      "correlation matrix mean:\n",
      "tensor([[ 1.0000, -0.0023, -0.2353, -0.2400],\n",
      "        [-0.0023,  1.0000,  0.3331, -0.1741],\n",
      "        [-0.2353,  0.3331,  1.0000,  0.5844],\n",
      "        [-0.2400, -0.1741,  0.5844,  1.0000]])\n",
      "correlation matrix std:\n",
      "tensor([[6.1559e-08, 1.5621e-02, 1.4013e-02, 1.1748e-02],\n",
      "        [1.5621e-02, 0.0000e+00, 0.0000e+00, 0.0000e+00],\n",
      "        [1.4013e-02, 0.0000e+00, 0.0000e+00, 0.0000e+00],\n",
      "        [1.1748e-02, 0.0000e+00, 0.0000e+00, 0.0000e+00]])\n",
      "\n",
      "GCNII downstream\n",
      "correlation matrix mean:\n",
      "tensor([[ 1.0000, -0.2337, -0.1703, -0.0367],\n",
      "        [-0.2337,  1.0000,  0.3331, -0.1741],\n",
      "        [-0.1703,  0.3331,  1.0000,  0.5844],\n",
      "        [-0.0367, -0.1741,  0.5844,  1.0000]])\n",
      "correlation matrix std:\n",
      "tensor([[4.8667e-08, 1.1841e-02, 3.2512e-03, 7.4772e-03],\n",
      "        [1.1841e-02, 0.0000e+00, 0.0000e+00, 0.0000e+00],\n",
      "        [3.2512e-03, 0.0000e+00, 0.0000e+00, 0.0000e+00],\n",
      "        [7.4772e-03, 0.0000e+00, 0.0000e+00, 0.0000e+00]])\n",
      "\n",
      "GCNII upstream\n",
      "correlation matrix mean:\n",
      "tensor([[ 1.0000, -0.1440,  0.0266,  0.0901],\n",
      "        [-0.1440,  1.0000,  0.3331, -0.1741],\n",
      "        [ 0.0266,  0.3331,  1.0000,  0.5844],\n",
      "        [ 0.0901, -0.1741,  0.5844,  1.0000]])\n",
      "correlation matrix std:\n",
      "tensor([[2.4333e-08, 5.7313e-03, 7.4662e-03, 9.3634e-03],\n",
      "        [5.7313e-03, 0.0000e+00, 0.0000e+00, 0.0000e+00],\n",
      "        [7.4662e-03, 0.0000e+00, 0.0000e+00, 0.0000e+00],\n",
      "        [9.3634e-03, 0.0000e+00, 0.0000e+00, 0.0000e+00]])\n",
      "\n",
      "GCNII bidirectional\n",
      "correlation matrix mean:\n",
      "tensor([[ 1.0000,  0.0541, -0.1031, -0.1626],\n",
      "        [ 0.0541,  1.0000,  0.3331, -0.1741],\n",
      "        [-0.1031,  0.3331,  1.0000,  0.5844],\n",
      "        [-0.1626, -0.1741,  0.5844,  1.0000]])\n",
      "correlation matrix std:\n",
      "tensor([[4.8667e-08, 3.4349e-02, 3.4657e-02, 1.2373e-02],\n",
      "        [3.4349e-02, 0.0000e+00, 0.0000e+00, 0.0000e+00],\n",
      "        [3.4657e-02, 0.0000e+00, 0.0000e+00, 0.0000e+00],\n",
      "        [1.2373e-02, 0.0000e+00, 0.0000e+00, 0.0000e+00]])\n",
      "\n"
     ]
    }
   ],
   "source": [
    "for architecture in [\"ResGCN\", \"GCNII\"]:\n",
    "    for edge_orientation in [\"downstream\", \"upstream\", \"bidirectional\"]:\n",
    "        print(architecture, edge_orientation)\n",
    "        corrmats = []\n",
    "        for fold in range(6):\n",
    "            chkpt = torch.load(f\"{CHECKPOINT_DIR}/{architecture}_{edge_orientation}_learned_{fold}.run\")\n",
    "            learned_weights = chkpt[\"history\"][\"best_model_params\"][\"edge_weights\"].nan_to_num().cpu()\n",
    "            corrmats.append(torch.corrcoef(torch.stack([learned_weights, stream_length, elevation_difference, average_slope]))) \n",
    "        print(\"correlation matrix mean:\")\n",
    "        print(torch.stack(corrmats).mean(dim=0))\n",
    "        print(\"correlation matrix std:\")\n",
    "        print(torch.stack(corrmats).std(dim=0))\n",
    "        print()"
   ]
  }
 ],
 "metadata": {
  "kernelspec": {
   "display_name": "Python 3 (ipykernel)",
   "language": "python",
   "name": "python3"
  },
  "language_info": {
   "codemirror_mode": {
    "name": "ipython",
    "version": 3
   },
   "file_extension": ".py",
   "mimetype": "text/x-python",
   "name": "python",
   "nbconvert_exporter": "python",
   "pygments_lexer": "ipython3",
   "version": "3.11.4"
  }
 },
 "nbformat": 4,
 "nbformat_minor": 5
}
