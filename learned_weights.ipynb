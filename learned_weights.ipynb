{
 "cells": [
  {
   "cell_type": "code",
   "execution_count": 4,
   "id": "a82137bd-7402-49ac-93f2-fcca7aaaf287",
   "metadata": {
    "execution": {
     "iopub.execute_input": "2023-04-23T14:05:11.820110Z",
     "iopub.status.busy": "2023-04-23T14:05:11.819861Z",
     "iopub.status.idle": "2023-04-23T14:05:13.317586Z",
     "shell.execute_reply": "2023-04-23T14:05:13.316543Z",
     "shell.execute_reply.started": "2023-04-23T14:05:11.820090Z"
    }
   },
   "outputs": [
    {
     "name": "stdout",
     "output_type": "stream",
     "text": [
      "\u001B[33mWARNING: Running pip as the 'root' user can result in broken permissions and conflicting behaviour with the system package manager. It is recommended to use a virtual environment instead: https://pip.pypa.io/warnings/venv\u001B[0m\u001B[33m\n",
      "\u001B[0mNote: you may need to restart the kernel to use updated packages.\n",
      "The autoreload extension is already loaded. To reload it, use:\n",
      "  %reload_ext autoreload\n"
     ]
    }
   ],
   "source": [
    "%pip install -q matplotlib networkx pandas torchinfo\n",
    "%load_ext autoreload\n",
    "%autoreload 2"
   ]
  },
  {
   "cell_type": "code",
   "execution_count": 5,
   "id": "294e0cc8-3171-48fa-ab74-1336baa2f4b3",
   "metadata": {
    "execution": {
     "iopub.execute_input": "2023-04-23T14:05:13.319024Z",
     "iopub.status.busy": "2023-04-23T14:05:13.318787Z",
     "iopub.status.idle": "2023-04-23T14:05:13.339560Z",
     "shell.execute_reply": "2023-04-23T14:05:13.339038Z",
     "shell.execute_reply.started": "2023-04-23T14:05:13.319001Z"
    }
   },
   "outputs": [],
   "source": [
    "import functions\n",
    "import matplotlib.pyplot as plt\n",
    "import torch"
   ]
  },
  {
   "cell_type": "code",
   "execution_count": 8,
   "id": "a98d4f37-68ed-4b92-b388-644918d58cef",
   "metadata": {
    "execution": {
     "iopub.execute_input": "2023-04-23T14:08:31.671928Z",
     "iopub.status.busy": "2023-04-23T14:08:31.671657Z",
     "iopub.status.idle": "2023-04-23T14:08:59.790978Z",
     "shell.execute_reply": "2023-04-23T14:08:59.790157Z",
     "shell.execute_reply.started": "2023-04-23T14:08:31.671906Z"
    }
   },
   "outputs": [
    {
     "name": "stdout",
     "output_type": "stream",
     "text": [
      "Loading dataset into memory...\n"
     ]
    },
    {
     "name": "stderr",
     "output_type": "stream",
     "text": [
      "100%|██████████| 375/375 [00:28<00:00, 13.36it/s]\n"
     ]
    }
   ],
   "source": [
    "dataset = functions.load_dataset({\"data\": {\n",
    "        \"window_size\": 24,\n",
    "        \"stride_length\": 1,\n",
    "        \"lead_time\": 1,\n",
    "        \"normalized\": True\n",
    "}}, \"test\")"
   ]
  },
  {
   "cell_type": "code",
   "execution_count": 11,
   "id": "630a9a55-02b1-40e1-aba3-214b1287af26",
   "metadata": {
    "execution": {
     "iopub.execute_input": "2023-04-23T14:11:48.740644Z",
     "iopub.status.busy": "2023-04-23T14:11:48.740390Z",
     "iopub.status.idle": "2023-04-23T14:11:49.285917Z",
     "shell.execute_reply": "2023-04-23T14:11:49.285124Z",
     "shell.execute_reply.started": "2023-04-23T14:11:48.740624Z"
    }
   },
   "outputs": [],
   "source": [
    "edge_weight_histories = []\n",
    "best_epochs = []\n",
    "\n",
    "for path in [\"runs/resgcn_adj_type_downstream/2023-04-22_21-30-45.run\",\n",
    "             \"runs/resgcn_adj_type_upstream/2023-04-22_21-33-46.run\",\n",
    "             \"runs/resgcn_adj_type_bidirectional/2023-04-22_21-38-12.run\"]:\n",
    "    chkpt = torch.load(path)\n",
    "    edge_weight_histories.append([history[\"edge_weights\"].nan_to_num() for history in chkpt[\"history\"][\"model_params\"]])\n",
    "    best_epochs.append(torch.tensor(chkpt[\"history\"][\"val_loss\"]).argmin())"
   ]
  },
  {
   "cell_type": "code",
   "execution_count": 13,
   "id": "8d2bf516-fcda-484f-bd45-ae60c3e6614a",
   "metadata": {
    "execution": {
     "iopub.execute_input": "2023-04-23T14:11:53.469015Z",
     "iopub.status.busy": "2023-04-23T14:11:53.468745Z",
     "iopub.status.idle": "2023-04-23T14:11:53.492694Z",
     "shell.execute_reply": "2023-04-23T14:11:53.492020Z",
     "shell.execute_reply.started": "2023-04-23T14:11:53.468993Z"
    }
   },
   "outputs": [
    {
     "name": "stdout",
     "output_type": "stream",
     "text": [
      "downstream correlation matrix:\n",
      "tensor([[ 1.0000,  0.0478,  0.1526,  0.0934],\n",
      "        [ 0.0478,  1.0000,  0.3331, -0.1741],\n",
      "        [ 0.1526,  0.3331,  1.0000,  0.5844],\n",
      "        [ 0.0934, -0.1741,  0.5844,  1.0000]])\n",
      "upstream correlation matrix:\n",
      "tensor([[ 1.0000,  0.1399, -0.2113, -0.2461],\n",
      "        [ 0.1399,  1.0000,  0.3331, -0.1741],\n",
      "        [-0.2113,  0.3331,  1.0000,  0.5844],\n",
      "        [-0.2461, -0.1741,  0.5844,  1.0000]])\n",
      "bidirectional correlation matrix:\n",
      "tensor([[ 1.0000,  0.0343, -0.1419, -0.1462],\n",
      "        [ 0.0343,  1.0000,  0.3331, -0.1741],\n",
      "        [-0.1419,  0.3331,  1.0000,  0.5844],\n",
      "        [-0.1462, -0.1741,  0.5844,  1.0000]])\n"
     ]
    }
   ],
   "source": [
    "for i, s in enumerate([\"downstream\", \"upstream\", \"bidirectional\"]):\n",
    "    print(s, \"correlation matrix:\")\n",
    "    print(torch.corrcoef(torch.stack([edge_weight_histories[i][best_epochs[i]]] + [functions.get_edge_weights(adjacency_type, dataset.edge_attr)\n",
    "             for adjacency_type in [\"stream_length\", \"elevation_difference\", \"average_slope\"]])))"
   ]
  },
  {
   "cell_type": "code",
   "execution_count": 14,
   "id": "d0fc6ea7-d3b0-44e6-a7a0-c1da15166859",
   "metadata": {
    "execution": {
     "iopub.execute_input": "2023-04-23T14:12:04.215117Z",
     "iopub.status.busy": "2023-04-23T14:12:04.214824Z",
     "iopub.status.idle": "2023-04-23T14:12:05.265326Z",
     "shell.execute_reply": "2023-04-23T14:12:05.264675Z",
     "shell.execute_reply.started": "2023-04-23T14:12:04.215094Z"
    }
   },
   "outputs": [
    {
     "data": {
      "image/png": "[encoded data removed]",
      "text/plain": [
       "<Figure size 864x432 with 6 Axes>"
      ]
     },
     "metadata": {
      "needs_background": "light"
     },
     "output_type": "display_data"
    }
   ],
   "source": [
    "plt.figure(figsize=(12, 6))\n",
    "for i in range(6):\n",
    "    plt.subplot(2, 3, 1 + i)\n",
    "    j = i % 3\n",
    "    if i < 3:\n",
    "        plt.title([\"downstream\", \"upstream\", \"bidirectional\"][j])\n",
    "    x = [w.mean() if i < 3 else (w.std() / w.mean()) for w in edge_weight_histories[j]]\n",
    "    plt.plot(range(1, len(edge_weight_histories[j]) + 1), x, color=plt.rcParams[\"axes.prop_cycle\"].by_key()[\"color\"][j])\n",
    "    plt.xlabel(\"epoch\")\n",
    "    plt.ylim((0.5,1.5) if i < 3 else (0,1.5))\n",
    "    plt.ylabel(\"mean\" if i == 0 else \"$\\\\frac{std}{mean}$\" if i == 3 else \"\")\n",
    "plt.tight_layout()\n",
    "plt.savefig(\"learned_weights.pdf\")\n",
    "plt.show()"
   ]
  }
 ],
 "metadata": {
  "kernelspec": {
   "display_name": "Python 3",
   "language": "python",
   "name": "python3"
  },
  "language_info": {
   "codemirror_mode": {
    "name": "ipython",
    "version": 3
   },
   "file_extension": ".py",
   "mimetype": "text/x-python",
   "name": "python",
   "nbconvert_exporter": "python",
   "pygments_lexer": "ipython3",
   "version": "3.8.10"
  }
 },
 "nbformat": 4,
 "nbformat_minor": 5
}
