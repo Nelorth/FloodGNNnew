{
 "cells": [
  {
   "cell_type": "code",
   "execution_count": 1,
   "id": "75358c60",
   "metadata": {},
   "outputs": [],
   "source": [
    "import matplotlib.pyplot as plt\n",
    "import pandas as pd\n",
    "\n",
    "from tqdm import tqdm"
   ]
  },
  {
   "cell_type": "code",
   "execution_count": 2,
   "id": "f69e6c50",
   "metadata": {},
   "outputs": [
    {
     "data": {
      "text/plain": [
       "YYYY    1999\n",
       "MM        10\n",
       "DD         7\n",
       "hh         0\n",
       "mm         0\n",
       "qobs    2035\n",
       "ckhs       1\n",
       "qceq       0\n",
       "qcol       0\n",
       "Name: 0, dtype: int64"
      ]
     },
     "execution_count": 2,
     "metadata": {},
     "output_type": "execute_result"
    }
   ],
   "source": [
    "df = pd.read_csv(\"LamaH-CE/raw/D_gauges/2_timeseries/hourly/ID_399.csv\", sep=\";\")\n",
    "df.iloc[0]"
   ]
  },
  {
   "cell_type": "code",
   "execution_count": 3,
   "id": "9682b911",
   "metadata": {},
   "outputs": [],
   "source": [
    "def process(years):\n",
    "    stream_dist = pd.read_csv(\"LamaH-CE/raw/B_basins_intermediate_all/1_attributes/Stream_dist.csv\", sep=\";\")\n",
    "    stream_dist.drop(columns=\"strm_slope\", inplace=True)  # will re-calculate from dist_hdn and elev_diff\n",
    "\n",
    "    def collect_upstream(id):\n",
    "        predecessors = set(stream_dist[stream_dist[\"NEXTDOWNID\"] == id][\"ID\"])\n",
    "        if len(predecessors) == 0:\n",
    "            return {id}\n",
    "        else:\n",
    "            return {id}.union(*(collect_upstream(pred) for pred in predecessors))\n",
    "\n",
    "    connected_gauges = set(stream_dist[\"ID\"]).union(stream_dist[\"NEXTDOWNID\"])\n",
    "    danube_gauges = set(collect_upstream(399))  # 399 is most downstream Danube gauge\n",
    "    assert danube_gauges.issubset(connected_gauges)\n",
    "\n",
    "    feasible_gauges = set()\n",
    "    qobs_statistics = pd.DataFrame(columns=[\"mean\", \"std\", \"min\", \"median\", \"max\"], index=pd.Index([], name=\"ID\"))\n",
    "    for gauge_id in danube_gauges:\n",
    "        ts = pd.read_csv(f\"LamaH-CE/raw/D_gauges/2_timeseries/hourly/ID_{gauge_id}.csv\",\n",
    "                         sep=\";\", usecols=[\"YYYY\", \"MM\", \"DD\", \"hh\", \"mm\", \"qobs\"])\n",
    "        if (ts[\"qobs\"] >= 0).all():\n",
    "            sub_ts = ts[(ts[\"YYYY\"] >= min(years)) & (ts[\"YYYY\"] <= max(years))]\n",
    "            expected_num_hrs = sum(24 * (365 + int(year % 4 == 0)) for year in years)\n",
    "            if len(sub_ts) == expected_num_hrs:\n",
    "                feasible_gauges.add(gauge_id)\n",
    "                qobs_statistics.loc[gauge_id] = [ts[\"qobs\"].mean(), ts[\"qobs\"].std(),\n",
    "                                                 ts[\"qobs\"].min(), ts[\"qobs\"].median(), ts[\"qobs\"].max()]\n",
    "                assert tuple(sub_ts.iloc[0, :5]) == (min(years), 1, 1, 0, 0) \\\n",
    "                       and tuple(sub_ts.iloc[-1, :5]) == (max(years), 12, 31, 23, 0)\n",
    "    return len(feasible_gauges)"
   ]
  },
  {
   "cell_type": "code",
   "execution_count": 4,
   "id": "874e69e3",
   "metadata": {},
   "outputs": [
    {
     "name": "stderr",
     "output_type": "stream",
     "text": [
      "100%|███████████████████████████████████████████████████████████████████████████████████| 18/18 [14:39<00:00, 48.85s/it]\n"
     ]
    }
   ],
   "source": [
    "start_years = range(2000, 2018)\n",
    "num_gauges = [process(range(start_year, 2018)) for start_year in tqdm(start_years)]"
   ]
  },
  {
   "cell_type": "code",
   "execution_count": 5,
   "id": "0957a45c",
   "metadata": {},
   "outputs": [
    {
     "data": {
      "image/png": "[encoded data removed]",
      "text/plain": [
       "<Figure size 640x480 with 1 Axes>"
      ]
     },
     "metadata": {},
     "output_type": "display_data"
    }
   ],
   "source": [
    "plt.scatter(start_years, num_gauges, marker=\"x\")\n",
    "plt.xticks(range(2000, 2018, 2))\n",
    "plt.ylim(0, 500)\n",
    "plt.xlabel(\"start year\")\n",
    "plt.ylabel(\"# usable gauges\")\n",
    "plt.savefig(\"start_year_tradeoff.png\")\n",
    "plt.show()"
   ]
  },
  {
   "cell_type": "code",
   "execution_count": 6,
   "id": "24480009",
   "metadata": {},
   "outputs": [
    {
     "name": "stdout",
     "output_type": "stream",
     "text": [
      "min: 375\n",
      "max: 451\n"
     ]
    }
   ],
   "source": [
    "print(\"min:\", min(num_gauges))\n",
    "print(\"max:\", max(num_gauges))"
   ]
  }
 ],
 "metadata": {
  "kernelspec": {
   "display_name": "Python 3 (ipykernel)",
   "language": "python",
   "name": "python3"
  },
  "language_info": {
   "codemirror_mode": {
    "name": "ipython",
    "version": 3
   },
   "file_extension": ".py",
   "mimetype": "text/x-python",
   "name": "python",
   "nbconvert_exporter": "python",
   "pygments_lexer": "ipython3",
   "version": "3.11.4"
  }
 },
 "nbformat": 4,
 "nbformat_minor": 5
}
