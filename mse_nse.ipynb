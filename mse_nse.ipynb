{
 "cells": [
  {
   "cell_type": "code",
   "execution_count": 1,
   "id": "6fcf2c62-5725-4e43-bcc8-9aa81b29f3c6",
   "metadata": {
    "execution": {
     "iopub.execute_input": "2023-04-23T19:38:43.022180Z",
     "iopub.status.busy": "2023-04-23T19:38:43.021892Z",
     "iopub.status.idle": "2023-04-23T19:38:52.417772Z",
     "shell.execute_reply": "2023-04-23T19:38:52.417078Z",
     "shell.execute_reply.started": "2023-04-23T19:38:43.022159Z"
    }
   },
   "outputs": [
    {
     "name": "stdout",
     "output_type": "stream",
     "text": [
      "\u001b[33mWARNING: Running pip as the 'root' user can result in broken permissions and conflicting behaviour with the system package manager. It is recommended to use a virtual environment instead: https://pip.pypa.io/warnings/venv\u001b[0m\u001b[33m\n",
      "\u001b[0mNote: you may need to restart the kernel to use updated packages.\n"
     ]
    }
   ],
   "source": [
    "%pip install -q matplotlib networkx pandas torchinfo\n",
    "%load_ext autoreload\n",
    "%autoreload 2"
   ]
  },
  {
   "cell_type": "code",
   "execution_count": 2,
   "id": "510f8bd5-900c-4616-b3f2-c9ceecfebbe8",
   "metadata": {
    "execution": {
     "iopub.execute_input": "2023-04-23T19:38:52.419034Z",
     "iopub.status.busy": "2023-04-23T19:38:52.418853Z",
     "iopub.status.idle": "2023-04-23T19:38:53.930465Z",
     "shell.execute_reply": "2023-04-23T19:38:53.929622Z",
     "shell.execute_reply.started": "2023-04-23T19:38:52.419015Z"
    }
   },
   "outputs": [],
   "source": [
    "import functions\n",
    "import pandas as pd\n",
    "\n",
    "from functools import partial"
   ]
  },
  {
   "cell_type": "code",
   "execution_count": 4,
   "id": "da74761b-b576-41ab-9de4-50bfde8aa34a",
   "metadata": {
    "execution": {
     "iopub.execute_input": "2023-04-23T20:33:16.417350Z",
     "iopub.status.busy": "2023-04-23T20:33:16.417019Z",
     "iopub.status.idle": "2023-04-23T20:50:10.061477Z",
     "shell.execute_reply": "2023-04-23T20:50:10.060567Z",
     "shell.execute_reply.started": "2023-04-23T20:33:16.417326Z"
    }
   },
   "outputs": [
    {
     "name": "stdout",
     "output_type": "stream",
     "text": [
      "Loading dataset into memory...\n"
     ]
    },
    {
     "name": "stderr",
     "output_type": "stream",
     "text": [
      "100%|██████████| 375/375 [00:27<00:00, 13.61it/s]\n",
      "Graph compilation: 100%|██████████| 100/100 [00:01<00:00]\n",
      "Testing: 100%|██████████| 17496/17496 [00:16<00:00, 1035.46it/s]\n"
     ]
    },
    {
     "name": "stdout",
     "output_type": "stream",
     "text": [
      "Loading dataset into memory...\n"
     ]
    },
    {
     "name": "stderr",
     "output_type": "stream",
     "text": [
      "100%|██████████| 375/375 [00:26<00:00, 14.10it/s]\n",
      "Graph compilation: 100%|██████████| 100/100 [00:01<00:00]\n",
      "Testing: 100%|██████████| 17496/17496 [00:16<00:00, 1045.08it/s]\n"
     ]
    },
    {
     "name": "stdout",
     "output_type": "stream",
     "text": [
      "Loading dataset into memory...\n"
     ]
    },
    {
     "name": "stderr",
     "output_type": "stream",
     "text": [
      "100%|██████████| 375/375 [00:26<00:00, 14.41it/s]\n",
      "Graph compilation: 100%|██████████| 100/100 [00:01<00:00]\n",
      "Testing: 100%|██████████| 17496/17496 [00:16<00:00, 1042.93it/s]\n"
     ]
    },
    {
     "name": "stdout",
     "output_type": "stream",
     "text": [
      "Loading dataset into memory...\n"
     ]
    },
    {
     "name": "stderr",
     "output_type": "stream",
     "text": [
      "100%|██████████| 375/375 [00:26<00:00, 14.16it/s]\n",
      "Graph compilation: 100%|██████████| 100/100 [00:00<00:00]\n",
      "Testing: 100%|██████████| 17496/17496 [00:16<00:00, 1039.58it/s]\n"
     ]
    },
    {
     "name": "stdout",
     "output_type": "stream",
     "text": [
      "Loading dataset into memory...\n"
     ]
    },
    {
     "name": "stderr",
     "output_type": "stream",
     "text": [
      "100%|██████████| 375/375 [00:26<00:00, 14.21it/s]\n",
      "Graph compilation: 100%|██████████| 100/100 [00:00<00:00]\n",
      "Testing: 100%|██████████| 17496/17496 [00:15<00:00, 1106.87it/s]\n"
     ]
    },
    {
     "name": "stdout",
     "output_type": "stream",
     "text": [
      "Loading dataset into memory...\n"
     ]
    },
    {
     "name": "stderr",
     "output_type": "stream",
     "text": [
      "100%|██████████| 375/375 [00:26<00:00, 14.05it/s]\n",
      "Graph compilation: 100%|██████████| 100/100 [00:00<00:00]\n",
      "Testing: 100%|██████████| 17496/17496 [00:16<00:00, 1031.78it/s]\n"
     ]
    },
    {
     "name": "stdout",
     "output_type": "stream",
     "text": [
      "Loading dataset into memory...\n"
     ]
    },
    {
     "name": "stderr",
     "output_type": "stream",
     "text": [
      "100%|██████████| 375/375 [00:26<00:00, 14.16it/s]\n",
      "Graph compilation: 100%|██████████| 100/100 [00:21<00:00]\n",
      "Testing: 100%|██████████| 17496/17496 [00:16<00:00, 1037.23it/s]\n"
     ]
    },
    {
     "name": "stdout",
     "output_type": "stream",
     "text": [
      "Loading dataset into memory...\n"
     ]
    },
    {
     "name": "stderr",
     "output_type": "stream",
     "text": [
      "100%|██████████| 375/375 [00:26<00:00, 14.06it/s]\n",
      "Graph compilation: 100%|██████████| 100/100 [00:20<00:00]\n",
      "Testing: 100%|██████████| 17496/17496 [00:15<00:00, 1110.61it/s]\n"
     ]
    },
    {
     "name": "stdout",
     "output_type": "stream",
     "text": [
      "Loading dataset into memory...\n"
     ]
    },
    {
     "name": "stderr",
     "output_type": "stream",
     "text": [
      "100%|██████████| 375/375 [00:26<00:00, 14.21it/s]\n",
      "Graph compilation: 100%|██████████| 100/100 [00:21<00:00]\n",
      "Testing: 100%|██████████| 17496/17496 [00:16<00:00, 1032.90it/s]\n"
     ]
    },
    {
     "name": "stdout",
     "output_type": "stream",
     "text": [
      "Loading dataset into memory...\n"
     ]
    },
    {
     "name": "stderr",
     "output_type": "stream",
     "text": [
      "100%|██████████| 375/375 [00:26<00:00, 13.91it/s]\n",
      "Graph compilation: 100%|██████████| 100/100 [00:00<00:00]\n",
      "Testing: 100%|██████████| 17496/17496 [00:16<00:00, 1044.78it/s]\n"
     ]
    },
    {
     "name": "stdout",
     "output_type": "stream",
     "text": [
      "Loading dataset into memory...\n"
     ]
    },
    {
     "name": "stderr",
     "output_type": "stream",
     "text": [
      "100%|██████████| 375/375 [00:26<00:00, 14.08it/s]\n",
      "Graph compilation: 100%|██████████| 100/100 [00:00<00:00]\n",
      "Testing: 100%|██████████| 17496/17496 [00:16<00:00, 1037.44it/s]\n"
     ]
    },
    {
     "name": "stdout",
     "output_type": "stream",
     "text": [
      "Loading dataset into memory...\n"
     ]
    },
    {
     "name": "stderr",
     "output_type": "stream",
     "text": [
      "100%|██████████| 375/375 [00:26<00:00, 14.19it/s]\n",
      "Graph compilation: 100%|██████████| 100/100 [00:00<00:00]\n",
      "Testing: 100%|██████████| 17496/17496 [00:16<00:00, 1039.65it/s]\n"
     ]
    },
    {
     "name": "stdout",
     "output_type": "stream",
     "text": [
      "Loading dataset into memory...\n"
     ]
    },
    {
     "name": "stderr",
     "output_type": "stream",
     "text": [
      "100%|██████████| 375/375 [00:26<00:00, 14.17it/s]\n",
      "Graph compilation: 100%|██████████| 100/100 [00:20<00:00]\n",
      "Testing: 100%|██████████| 17496/17496 [00:16<00:00, 1090.76it/s]\n"
     ]
    },
    {
     "name": "stdout",
     "output_type": "stream",
     "text": [
      "Loading dataset into memory...\n"
     ]
    },
    {
     "name": "stderr",
     "output_type": "stream",
     "text": [
      "100%|██████████| 375/375 [00:26<00:00, 14.12it/s]\n",
      "Graph compilation: 100%|██████████| 100/100 [00:21<00:00]\n",
      "Testing: 100%|██████████| 17496/17496 [00:17<00:00, 1005.77it/s]\n"
     ]
    },
    {
     "name": "stdout",
     "output_type": "stream",
     "text": [
      "Loading dataset into memory...\n"
     ]
    },
    {
     "name": "stderr",
     "output_type": "stream",
     "text": [
      "100%|██████████| 375/375 [00:27<00:00, 13.76it/s]\n",
      "Graph compilation: 100%|██████████| 100/100 [00:01<00:00]\n",
      "Testing: 100%|██████████| 17496/17496 [00:17<00:00, 1011.01it/s]\n"
     ]
    },
    {
     "name": "stdout",
     "output_type": "stream",
     "text": [
      "Loading dataset into memory...\n"
     ]
    },
    {
     "name": "stderr",
     "output_type": "stream",
     "text": [
      "100%|██████████| 375/375 [00:27<00:00, 13.79it/s]\n",
      "Graph compilation: 100%|██████████| 100/100 [00:01<00:00]\n",
      "Testing: 100%|██████████| 17496/17496 [00:18<00:00, 968.88it/s] \n"
     ]
    },
    {
     "name": "stdout",
     "output_type": "stream",
     "text": [
      "Loading dataset into memory...\n"
     ]
    },
    {
     "name": "stderr",
     "output_type": "stream",
     "text": [
      "100%|██████████| 375/375 [00:26<00:00, 14.08it/s]\n",
      "Graph compilation: 100%|██████████| 100/100 [00:01<00:00]\n",
      "Testing: 100%|██████████| 17496/17496 [00:17<00:00, 981.18it/s] \n"
     ]
    },
    {
     "name": "stdout",
     "output_type": "stream",
     "text": [
      "Loading dataset into memory...\n"
     ]
    },
    {
     "name": "stderr",
     "output_type": "stream",
     "text": [
      "100%|██████████| 375/375 [00:28<00:00, 13.31it/s]\n",
      "Graph compilation: 100%|██████████| 100/100 [00:22<00:00]\n",
      "Testing: 100%|██████████| 17496/17496 [00:18<00:00, 958.31it/s]\n"
     ]
    }
   ],
   "source": [
    "results = {}\n",
    "for edge_orientation in [\"downstream\", \"upstream\", \"bidirectional\"]:\n",
    "    results[edge_orientation] = functions.evaluate_directory(f\"runs/resgcn_adj_type_{edge_orientation}\", \n",
    "                                                             partial(functions.evaluate_mse_nse, on_ipu=True),\n",
    "                                                             lambda chkpt: chkpt[\"hparams\"][\"model\"][\"adjacency_type\"])"
   ]
  },
  {
   "cell_type": "code",
   "execution_count": 14,
   "id": "5af2da0b-8686-4f4c-82cf-459b31811dd6",
   "metadata": {
    "execution": {
     "iopub.execute_input": "2023-04-23T22:28:37.769332Z",
     "iopub.status.busy": "2023-04-23T22:28:37.769065Z",
     "iopub.status.idle": "2023-04-23T22:28:37.866663Z",
     "shell.execute_reply": "2023-04-23T22:28:37.865963Z",
     "shell.execute_reply.started": "2023-04-23T22:28:37.769313Z"
    }
   },
   "outputs": [
    {
     "name": "stdout",
     "output_type": "stream",
     "text": [
      "downstream average_slope\n",
      "         test_mse    test_nse\n",
      "count  375.000000  375.000000\n",
      "mean    13.693826    0.986245\n",
      "std     75.075493    0.029520\n",
      "min      0.000036    0.699782\n",
      "25%      0.010725    0.987218\n",
      "50%      0.055316    0.994410\n",
      "75%      0.371304    0.997526\n",
      "max    751.975525    0.999872\n",
      "\n",
      "downstream learned\n",
      "         test_mse    test_nse\n",
      "count  375.000000  375.000000\n",
      "mean    11.001119    0.986557\n",
      "std     60.499039    0.029562\n",
      "min      0.000036    0.686041\n",
      "25%      0.010455    0.987532\n",
      "50%      0.056033    0.994451\n",
      "75%      0.386373    0.997576\n",
      "max    641.763062    0.999860\n",
      "\n",
      "downstream elevation_difference\n",
      "         test_mse    test_nse\n",
      "count  375.000000  375.000000\n",
      "mean    17.648624    0.985903\n",
      "std     96.139336    0.029973\n",
      "min      0.000037    0.688440\n",
      "25%      0.010676    0.987140\n",
      "50%      0.059997    0.994088\n",
      "75%      0.419940    0.997268\n",
      "max    863.505127    0.999851\n",
      "\n",
      "downstream binary\n",
      "         test_mse    test_nse\n",
      "count  375.000000  375.000000\n",
      "mean    15.289621    0.986020\n",
      "std     85.627930    0.029576\n",
      "min      0.000036    0.703364\n",
      "25%      0.011141    0.987201\n",
      "50%      0.058513    0.994103\n",
      "75%      0.408021    0.997381\n",
      "max    900.329712    0.999876\n",
      "\n",
      "downstream isolated\n",
      "         test_mse    test_nse\n",
      "count  375.000000  375.000000\n",
      "mean    17.012480    0.986624\n",
      "std     84.851021    0.027115\n",
      "min      0.000035    0.731412\n",
      "25%      0.010700    0.988442\n",
      "50%      0.059544    0.994119\n",
      "75%      0.417563    0.997242\n",
      "max    767.823914    0.999857\n",
      "\n",
      "downstream stream_length\n",
      "         test_mse    test_nse\n",
      "count  375.000000  375.000000\n",
      "mean    13.603461    0.986209\n",
      "std     74.788422    0.029724\n",
      "min      0.000036    0.696665\n",
      "25%      0.010602    0.987289\n",
      "50%      0.055444    0.994416\n",
      "75%      0.378244    0.997543\n",
      "max    812.568787    0.999880\n",
      "\n",
      "upstream learned\n",
      "         test_mse    test_nse\n",
      "count  375.000000  375.000000\n",
      "mean    13.713448    0.986527\n",
      "std     68.829681    0.029098\n",
      "min      0.000034    0.707506\n",
      "25%      0.009477    0.988267\n",
      "50%      0.057066    0.994361\n",
      "75%      0.396868    0.997427\n",
      "max    683.034668    0.999965\n",
      "\n",
      "upstream isolated\n",
      "         test_mse    test_nse\n",
      "count  375.000000  375.000000\n",
      "mean    17.012480    0.986624\n",
      "std     84.851021    0.027115\n",
      "min      0.000035    0.731412\n",
      "25%      0.010700    0.988442\n",
      "50%      0.059544    0.994119\n",
      "75%      0.417563    0.997242\n",
      "max    767.823914    0.999857\n",
      "\n",
      "upstream average_slope\n",
      "         test_mse    test_nse\n",
      "count  375.000000  375.000000\n",
      "mean    14.068788    0.983579\n",
      "std     71.577362    0.037522\n",
      "min      0.000046    0.505478\n",
      "25%      0.013764    0.985774\n",
      "50%      0.068470    0.992705\n",
      "75%      0.444410    0.996453\n",
      "max    716.096191    0.999955\n",
      "\n",
      "upstream binary\n",
      "         test_mse    test_nse\n",
      "count  375.000000  375.000000\n",
      "mean    14.270362    0.981281\n",
      "std     71.603119    0.035974\n",
      "min      0.000064    0.568156\n",
      "25%      0.015706    0.979946\n",
      "50%      0.080291    0.991606\n",
      "75%      0.550204    0.995547\n",
      "max    727.547424    0.999944\n",
      "\n",
      "upstream stream_length\n",
      "         test_mse    test_nse\n",
      "count  375.000000  375.000000\n",
      "mean    14.422802    0.983818\n",
      "std     74.439140    0.032856\n",
      "min      0.000062    0.620021\n",
      "25%      0.014097    0.984552\n",
      "50%      0.067466    0.992532\n",
      "75%      0.466087    0.996410\n",
      "max    716.932617    0.999956\n",
      "\n",
      "upstream elevation_difference\n",
      "         test_mse    test_nse\n",
      "count  375.000000  375.000000\n",
      "mean    18.449566    0.983989\n",
      "std     92.705406    0.034174\n",
      "min      0.000051    0.586729\n",
      "25%      0.012714    0.985827\n",
      "50%      0.079370    0.992773\n",
      "75%      0.504999    0.996512\n",
      "max    743.131226    0.999815\n",
      "\n",
      "bidirectional isolated\n",
      "         test_mse    test_nse\n",
      "count  375.000000  375.000000\n",
      "mean    17.012480    0.986624\n",
      "std     84.851021    0.027115\n",
      "min      0.000035    0.731412\n",
      "25%      0.010700    0.988442\n",
      "50%      0.059544    0.994119\n",
      "75%      0.417563    0.997242\n",
      "max    767.823914    0.999857\n",
      "\n",
      "bidirectional binary\n",
      "          test_mse    test_nse\n",
      "count   375.000000  375.000000\n",
      "mean     23.430773    0.987241\n",
      "std     151.531540    0.027360\n",
      "min       0.000031    0.726078\n",
      "25%       0.009244    0.989041\n",
      "50%       0.053352    0.994693\n",
      "75%       0.374314    0.997627\n",
      "max    2017.916504    0.999858\n",
      "\n",
      "bidirectional stream_length\n",
      "          test_mse    test_nse\n",
      "count   375.000000  375.000000\n",
      "mean     21.532526    0.987385\n",
      "std     136.511963    0.027036\n",
      "min       0.000032    0.731804\n",
      "25%       0.009595    0.989187\n",
      "50%       0.053573    0.994833\n",
      "75%       0.354580    0.997663\n",
      "max    1818.413696    0.999856\n",
      "\n",
      "bidirectional average_slope\n",
      "          test_mse    test_nse\n",
      "count   375.000000  375.000000\n",
      "mean     23.801638    0.987250\n",
      "std     158.859360    0.027233\n",
      "min       0.000031    0.728415\n",
      "25%       0.010035    0.989056\n",
      "50%       0.057149    0.994850\n",
      "75%       0.367099    0.997569\n",
      "max    2162.195312    0.999828\n",
      "\n",
      "bidirectional elevation_difference\n",
      "          test_mse    test_nse\n",
      "count   375.000000  375.000000\n",
      "mean     35.162918    0.986336\n",
      "std     256.151215    0.027676\n",
      "min       0.000035    0.722936\n",
      "25%       0.011399    0.987984\n",
      "50%       0.067621    0.993826\n",
      "75%       0.414558    0.996868\n",
      "max    3905.990479    0.999643\n",
      "\n",
      "bidirectional learned\n",
      "          test_mse    test_nse\n",
      "count   375.000000  375.000000\n",
      "mean     25.312752    0.987156\n",
      "std     170.213028    0.027890\n",
      "min       0.000033    0.725316\n",
      "25%       0.010159    0.989034\n",
      "50%       0.056086    0.994751\n",
      "75%       0.369063    0.997516\n",
      "max    2416.863770    0.999796\n",
      "\n"
     ]
    }
   ],
   "source": [
    "for edge_orientation, sub_results in results.items():\n",
    "    for adjacency_type, (test_mse, test_nse) in sub_results.items():\n",
    "        print(edge_orientation, adjacency_type)\n",
    "        print(pd.DataFrame({\n",
    "            \"test_mse\": test_mse.squeeze(),\n",
    "            \"test_nse\": test_nse.squeeze()}\n",
    "        ).describe(), end=\"\\n\\n\")"
   ]
  }
 ],
 "metadata": {
  "kernelspec": {
   "display_name": "Python 3",
   "language": "python",
   "name": "python3"
  },
  "language_info": {
   "codemirror_mode": {
    "name": "ipython",
    "version": 3
   },
   "file_extension": ".py",
   "mimetype": "text/x-python",
   "name": "python",
   "nbconvert_exporter": "python",
   "pygments_lexer": "ipython3",
   "version": "3.8.10"
  }
 },
 "nbformat": 4,
 "nbformat_minor": 5
}
