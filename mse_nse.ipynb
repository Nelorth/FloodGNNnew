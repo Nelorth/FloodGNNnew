{
 "cells": [
  {
   "cell_type": "code",
   "execution_count": 1,
   "id": "6fcf2c62-5725-4e43-bcc8-9aa81b29f3c6",
   "metadata": {
    "execution": {
     "iopub.execute_input": "2023-04-23T19:38:43.022180Z",
     "iopub.status.busy": "2023-04-23T19:38:43.021892Z",
     "iopub.status.idle": "2023-04-23T19:38:52.417772Z",
     "shell.execute_reply": "2023-04-23T19:38:52.417078Z",
     "shell.execute_reply.started": "2023-04-23T19:38:43.022159Z"
    }
   },
   "outputs": [
    {
     "name": "stdout",
     "output_type": "stream",
     "text": [
      "\u001B[33mWARNING: Running pip as the 'root' user can result in broken permissions and conflicting behaviour with the system package manager. It is recommended to use a virtual environment instead: https://pip.pypa.io/warnings/venv\u001B[0m\u001B[33m\n",
      "\u001B[0mNote: you may need to restart the kernel to use updated packages.\n"
     ]
    }
   ],
   "source": [
    "%pip install -q matplotlib networkx pandas torchinfo\n",
    "%load_ext autoreload\n",
    "%autoreload 2"
   ]
  },
  {
   "cell_type": "code",
   "execution_count": 1,
   "id": "510f8bd5-900c-4616-b3f2-c9ceecfebbe8",
   "metadata": {
    "execution": {
     "iopub.execute_input": "2023-04-23T19:38:52.419034Z",
     "iopub.status.busy": "2023-04-23T19:38:52.418853Z",
     "iopub.status.idle": "2023-04-23T19:38:53.930465Z",
     "shell.execute_reply": "2023-04-23T19:38:53.929622Z",
     "shell.execute_reply.started": "2023-04-23T19:38:52.419015Z"
    }
   },
   "outputs": [],
   "source": [
    "import functions\n",
    "import pandas as pd\n",
    "\n",
    "from collections import defaultdict\n",
    "from functools import partial"
   ]
  },
  {
   "cell_type": "code",
   "execution_count": 2,
   "id": "67425688",
   "metadata": {},
   "outputs": [
    {
     "name": "stdout",
     "output_type": "stream",
     "text": [
      "GCN_bidirectional_average_slope_0.run\r\n",
      "GCN_bidirectional_average_slope_1.run\r\n",
      "GCN_bidirectional_binary_0.run\r\n",
      "GCN_bidirectional_binary_1.run\r\n",
      "GCN_bidirectional_elevation_difference_0.run\r\n",
      "GCN_bidirectional_elevation_difference_1.run\r\n",
      "GCN_bidirectional_isolated_0.run\r\n",
      "GCN_bidirectional_isolated_1.run\r\n",
      "GCN_bidirectional_learned_0.run\r\n",
      "GCN_bidirectional_learned_1.run\r\n",
      "GCN_bidirectional_stream_length_0.run\r\n",
      "GCN_bidirectional_stream_length_1.run\r\n",
      "GCN_downstream_average_slope_0.run\r\n",
      "GCN_downstream_average_slope_1.run\r\n",
      "GCN_downstream_binary_0.run\r\n",
      "GCN_downstream_binary_1.run\r\n",
      "GCN_downstream_binary_2.run\r\n",
      "GCN_downstream_elevation_difference_0.run\r\n",
      "GCN_downstream_elevation_difference_1.run\r\n",
      "GCN_downstream_elevation_difference_2.run\r\n",
      "GCN_downstream_isolated_0.run\r\n",
      "GCN_downstream_isolated_1.run\r\n",
      "GCN_downstream_isolated_2.run\r\n",
      "GCN_downstream_learned_0.run\r\n",
      "GCN_downstream_learned_1.run\r\n",
      "GCN_downstream_stream_length_0.run\r\n",
      "GCN_downstream_stream_length_1.run\r\n",
      "GCN_downstream_stream_length_2.run\r\n",
      "GCNII_bidirectional_average_slope_0.run\r\n",
      "GCNII_bidirectional_average_slope_1.run\r\n",
      "GCNII_bidirectional_binary_0.run\r\n",
      "GCNII_bidirectional_binary_1.run\r\n",
      "GCNII_bidirectional_elevation_difference_0.run\r\n",
      "GCNII_bidirectional_elevation_difference_1.run\r\n",
      "GCNII_bidirectional_isolated_0.run\r\n",
      "GCNII_bidirectional_isolated_1.run\r\n",
      "GCNII_bidirectional_learned_0.run\r\n",
      "GCNII_bidirectional_learned_1.run\r\n",
      "GCNII_bidirectional_stream_length_0.run\r\n",
      "GCNII_bidirectional_stream_length_1.run\r\n",
      "GCNII_downstream_average_slope_0.run\r\n",
      "GCNII_downstream_average_slope_1.run\r\n",
      "GCNII_downstream_average_slope_2.run\r\n",
      "GCNII_downstream_binary_0.run\r\n",
      "GCNII_downstream_binary_1.run\r\n",
      "GCNII_downstream_binary_2.run\r\n",
      "GCNII_downstream_elevation_difference_0.run\r\n",
      "GCNII_downstream_elevation_difference_1.run\r\n",
      "GCNII_downstream_elevation_difference_2.run\r\n",
      "GCNII_downstream_isolated_0.run\r\n",
      "GCNII_downstream_isolated_1.run\r\n",
      "GCNII_downstream_isolated_2.run\r\n",
      "GCNII_downstream_learned_0.run\r\n",
      "GCNII_downstream_learned_1.run\r\n",
      "GCNII_downstream_learned_2.run\r\n",
      "GCNII_downstream_stream_length_0.run\r\n",
      "GCNII_downstream_stream_length_1.run\r\n",
      "GCNII_downstream_stream_length_2.run\r\n",
      "GCNII_upstream_average_slope_0.run\r\n",
      "GCNII_upstream_average_slope_1.run\r\n",
      "GCNII_upstream_binary_0.run\r\n",
      "GCNII_upstream_binary_1.run\r\n",
      "GCNII_upstream_elevation_difference_0.run\r\n",
      "GCNII_upstream_elevation_difference_1.run\r\n",
      "GCNII_upstream_isolated_0.run\r\n",
      "GCNII_upstream_isolated_1.run\r\n",
      "GCNII_upstream_isolated_2.run\r\n",
      "GCNII_upstream_learned_0.run\r\n",
      "GCNII_upstream_learned_1.run\r\n",
      "GCNII_upstream_stream_length_0.run\r\n",
      "GCNII_upstream_stream_length_1.run\r\n",
      "GCN_upstream_average_slope_0.run\r\n",
      "GCN_upstream_average_slope_1.run\r\n",
      "GCN_upstream_binary_0.run\r\n",
      "GCN_upstream_binary_1.run\r\n",
      "GCN_upstream_elevation_difference_0.run\r\n",
      "GCN_upstream_elevation_difference_1.run\r\n",
      "GCN_upstream_isolated_0.run\r\n",
      "GCN_upstream_isolated_1.run\r\n",
      "GCN_upstream_learned_0.run\r\n",
      "GCN_upstream_learned_1.run\r\n",
      "GCN_upstream_stream_length_0.run\r\n",
      "GCN_upstream_stream_length_1.run\r\n",
      "MLP_bidirectional_average_slope_0.run\r\n",
      "MLP_bidirectional_binary_0.run\r\n",
      "MLP_bidirectional_elevation_difference_0.run\r\n",
      "MLP_bidirectional_isolated_0.run\r\n",
      "MLP_bidirectional_learned_0.run\r\n",
      "MLP_bidirectional_stream_length_0.run\r\n",
      "MLP_downstream_average_slope_0.run\r\n",
      "MLP_downstream_binary_0.run\r\n",
      "MLP_downstream_elevation_difference_0.run\r\n",
      "MLP_downstream_isolated_0.run\r\n",
      "MLP_downstream_learned_0.run\r\n",
      "MLP_downstream_stream_length_0.run\r\n",
      "MLP_upstream_average_slope_0.run\r\n",
      "MLP_upstream_binary_0.run\r\n",
      "MLP_upstream_elevation_difference_0.run\r\n",
      "MLP_upstream_isolated_0.run\r\n",
      "MLP_upstream_learned_0.run\r\n",
      "MLP_upstream_stream_length_0.run\r\n",
      "ResGCN_bidirectional_average_slope_0.run\r\n",
      "ResGCN_bidirectional_average_slope_1.run\r\n",
      "ResGCN_bidirectional_binary_0.run\r\n",
      "ResGCN_bidirectional_binary_1.run\r\n",
      "ResGCN_bidirectional_elevation_difference_0.run\r\n",
      "ResGCN_bidirectional_elevation_difference_1.run\r\n",
      "ResGCN_bidirectional_isolated_0.run\r\n",
      "ResGCN_bidirectional_isolated_1.run\r\n",
      "ResGCN_bidirectional_learned_0.run\r\n",
      "ResGCN_bidirectional_learned_1.run\r\n",
      "ResGCN_bidirectional_stream_length_0.run\r\n",
      "ResGCN_bidirectional_stream_length_1.run\r\n",
      "ResGCN_downstream_average_slope_0.run\r\n",
      "ResGCN_downstream_average_slope_1.run\r\n",
      "ResGCN_downstream_average_slope_2.run\r\n",
      "ResGCN_downstream_binary_0.run\r\n",
      "ResGCN_downstream_binary_1.run\r\n",
      "ResGCN_downstream_binary_2.run\r\n",
      "ResGCN_downstream_elevation_difference_0.run\r\n",
      "ResGCN_downstream_elevation_difference_1.run\r\n",
      "ResGCN_downstream_elevation_difference_2.run\r\n",
      "ResGCN_downstream_isolated_0.run\r\n",
      "ResGCN_downstream_isolated_1.run\r\n",
      "ResGCN_downstream_isolated_2.run\r\n",
      "ResGCN_downstream_learned_0.run\r\n",
      "ResGCN_downstream_learned_1.run\r\n",
      "ResGCN_downstream_learned_2.run\r\n",
      "ResGCN_downstream_stream_length_0.run\r\n",
      "ResGCN_downstream_stream_length_1.run\r\n",
      "ResGCN_downstream_stream_length_2.run\r\n",
      "ResGCN_upstream_average_slope_0.run\r\n",
      "ResGCN_upstream_average_slope_1.run\r\n",
      "ResGCN_upstream_average_slope_2.run\r\n",
      "ResGCN_upstream_binary_0.run\r\n",
      "ResGCN_upstream_binary_1.run\r\n",
      "ResGCN_upstream_binary_2.run\r\n",
      "ResGCN_upstream_elevation_difference_0.run\r\n",
      "ResGCN_upstream_elevation_difference_1.run\r\n",
      "ResGCN_upstream_elevation_difference_2.run\r\n",
      "ResGCN_upstream_isolated_0.run\r\n",
      "ResGCN_upstream_isolated_1.run\r\n",
      "ResGCN_upstream_isolated_2.run\r\n",
      "ResGCN_upstream_learned_0.run\r\n",
      "ResGCN_upstream_learned_1.run\r\n",
      "ResGCN_upstream_learned_2.run\r\n",
      "ResGCN_upstream_stream_length_0.run\r\n",
      "ResGCN_upstream_stream_length_1.run\r\n",
      "ResGCN_upstream_stream_length_2.run\r\n"
     ]
    }
   ],
   "source": [
    "!ls runs/topology"
   ]
  },
  {
   "cell_type": "code",
   "execution_count": 12,
   "id": "70cb52bb",
   "metadata": {},
   "outputs": [],
   "source": [
    "chkpt = functions.load_checkpoint(\"runs/topology/GCNII_bidirectional_isolated_1.run\")"
   ]
  },
  {
   "cell_type": "code",
   "execution_count": 13,
   "id": "9934a874",
   "metadata": {},
   "outputs": [
    {
     "data": {
      "text/plain": [
       "{'data': {'window_size': 24,\n",
       "  'stride_length': 1,\n",
       "  'lead_time': 1,\n",
       "  'normalized': True},\n",
       " 'model': {'architecture': 'GCNII',\n",
       "  'num_layers': 20,\n",
       "  'hidden_channels': 64,\n",
       "  'param_sharing': False,\n",
       "  'graff_step_size': 1,\n",
       "  'edge_orientation': 'bidirectional',\n",
       "  'adjacency_type': 'isolated'},\n",
       " 'training': {'num_epochs': 20,\n",
       "  'batch_size': 64,\n",
       "  'learning_rate': 0.0001,\n",
       "  'weight_decay': 0,\n",
       "  'random_seed': 42,\n",
       "  'train_years': [2013,\n",
       "   2001,\n",
       "   2009,\n",
       "   2007,\n",
       "   2015,\n",
       "   2006,\n",
       "   2008,\n",
       "   2002,\n",
       "   2010,\n",
       "   2004,\n",
       "   2016,\n",
       "   2003,\n",
       "   2012,\n",
       "   2014,\n",
       "   2000],\n",
       "  'holdout_size': 0.25}}"
      ]
     },
     "execution_count": 13,
     "metadata": {},
     "output_type": "execute_result"
    }
   ],
   "source": [
    "chkpt[\"hparams\"]"
   ]
  },
  {
   "cell_type": "code",
   "execution_count": 3,
   "id": "21dcb742",
   "metadata": {},
   "outputs": [
    {
     "name": "stdout",
     "output_type": "stream",
     "text": [
      "Loading dataset into memory...\n"
     ]
    },
    {
     "name": "stderr",
     "output_type": "stream",
     "text": [
      "100%|█████████████████████████████████████████████████████████████████████████████████| 375/375 [00:32<00:00, 11.48it/s]\n",
      "Testing: 100%|███████████████████████████████████████████████████████████████████| 26256/26256 [00:55<00:00, 476.05it/s]\n"
     ]
    },
    {
     "name": "stdout",
     "output_type": "stream",
     "text": [
      "Loading dataset into memory...\n"
     ]
    },
    {
     "name": "stderr",
     "output_type": "stream",
     "text": [
      "100%|█████████████████████████████████████████████████████████████████████████████████| 375/375 [00:32<00:00, 11.41it/s]\n",
      "Testing: 100%|███████████████████████████████████████████████████████████████████| 26256/26256 [00:41<00:00, 630.53it/s]\n"
     ]
    },
    {
     "name": "stdout",
     "output_type": "stream",
     "text": [
      "Loading dataset into memory...\n"
     ]
    },
    {
     "name": "stderr",
     "output_type": "stream",
     "text": [
      "100%|█████████████████████████████████████████████████████████████████████████████████| 375/375 [00:28<00:00, 13.20it/s]\n",
      "Testing: 100%|███████████████████████████████████████████████████████████████████| 26256/26256 [00:41<00:00, 628.73it/s]\n"
     ]
    },
    {
     "name": "stdout",
     "output_type": "stream",
     "text": [
      "Loading dataset into memory...\n"
     ]
    },
    {
     "name": "stderr",
     "output_type": "stream",
     "text": [
      "100%|█████████████████████████████████████████████████████████████████████████████████| 375/375 [00:28<00:00, 13.18it/s]\n",
      "Testing: 100%|███████████████████████████████████████████████████████████████████| 26256/26256 [00:41<00:00, 633.08it/s]\n"
     ]
    },
    {
     "name": "stdout",
     "output_type": "stream",
     "text": [
      "Loading dataset into memory...\n"
     ]
    },
    {
     "name": "stderr",
     "output_type": "stream",
     "text": [
      "100%|█████████████████████████████████████████████████████████████████████████████████| 375/375 [00:27<00:00, 13.40it/s]\n",
      "Testing: 100%|███████████████████████████████████████████████████████████████████| 26256/26256 [00:41<00:00, 626.61it/s]\n"
     ]
    },
    {
     "name": "stdout",
     "output_type": "stream",
     "text": [
      "Loading dataset into memory...\n"
     ]
    },
    {
     "name": "stderr",
     "output_type": "stream",
     "text": [
      "100%|█████████████████████████████████████████████████████████████████████████████████| 375/375 [00:28<00:00, 13.19it/s]\n",
      "Testing: 100%|███████████████████████████████████████████████████████████████████| 26256/26256 [00:42<00:00, 617.49it/s]\n"
     ]
    },
    {
     "name": "stdout",
     "output_type": "stream",
     "text": [
      "Loading dataset into memory...\n"
     ]
    },
    {
     "name": "stderr",
     "output_type": "stream",
     "text": [
      "100%|█████████████████████████████████████████████████████████████████████████████████| 375/375 [00:28<00:00, 13.25it/s]\n",
      "Testing: 100%|███████████████████████████████████████████████████████████████████| 26256/26256 [04:00<00:00, 109.35it/s]\n"
     ]
    },
    {
     "name": "stdout",
     "output_type": "stream",
     "text": [
      "Loading dataset into memory...\n"
     ]
    },
    {
     "name": "stderr",
     "output_type": "stream",
     "text": [
      "100%|█████████████████████████████████████████████████████████████████████████████████| 375/375 [00:28<00:00, 13.24it/s]\n",
      "Testing: 100%|███████████████████████████████████████████████████████████████████| 26256/26256 [04:06<00:00, 106.71it/s]\n"
     ]
    },
    {
     "name": "stdout",
     "output_type": "stream",
     "text": [
      "Loading dataset into memory...\n"
     ]
    },
    {
     "name": "stderr",
     "output_type": "stream",
     "text": [
      "100%|█████████████████████████████████████████████████████████████████████████████████| 375/375 [00:28<00:00, 12.99it/s]\n",
      "Testing: 100%|███████████████████████████████████████████████████████████████████| 26256/26256 [04:03<00:00, 108.02it/s]\n"
     ]
    },
    {
     "name": "stdout",
     "output_type": "stream",
     "text": [
      "Loading dataset into memory...\n"
     ]
    },
    {
     "name": "stderr",
     "output_type": "stream",
     "text": [
      "100%|█████████████████████████████████████████████████████████████████████████████████| 375/375 [00:29<00:00, 12.56it/s]\n",
      "Testing: 100%|███████████████████████████████████████████████████████████████████| 26256/26256 [04:02<00:00, 108.15it/s]\n"
     ]
    },
    {
     "name": "stdout",
     "output_type": "stream",
     "text": [
      "Loading dataset into memory...\n"
     ]
    },
    {
     "name": "stderr",
     "output_type": "stream",
     "text": [
      "100%|█████████████████████████████████████████████████████████████████████████████████| 375/375 [00:28<00:00, 13.15it/s]\n",
      "Testing: 100%|███████████████████████████████████████████████████████████████████| 26256/26256 [03:59<00:00, 109.63it/s]\n"
     ]
    },
    {
     "name": "stdout",
     "output_type": "stream",
     "text": [
      "Loading dataset into memory...\n"
     ]
    },
    {
     "name": "stderr",
     "output_type": "stream",
     "text": [
      "100%|█████████████████████████████████████████████████████████████████████████████████| 375/375 [00:28<00:00, 13.18it/s]\n",
      "Testing: 100%|███████████████████████████████████████████████████████████████████| 26256/26256 [04:03<00:00, 107.79it/s]\n"
     ]
    },
    {
     "name": "stdout",
     "output_type": "stream",
     "text": [
      "Loading dataset into memory...\n"
     ]
    },
    {
     "name": "stderr",
     "output_type": "stream",
     "text": [
      "100%|█████████████████████████████████████████████████████████████████████████████████| 375/375 [00:28<00:00, 13.10it/s]\n",
      "Testing: 100%|███████████████████████████████████████████████████████████████████| 26256/26256 [04:07<00:00, 105.88it/s]\n"
     ]
    },
    {
     "name": "stdout",
     "output_type": "stream",
     "text": [
      "Loading dataset into memory...\n"
     ]
    },
    {
     "name": "stderr",
     "output_type": "stream",
     "text": [
      "100%|█████████████████████████████████████████████████████████████████████████████████| 375/375 [00:28<00:00, 13.10it/s]\n",
      "Testing: 100%|███████████████████████████████████████████████████████████████████| 26256/26256 [04:09<00:00, 105.28it/s]\n"
     ]
    },
    {
     "name": "stdout",
     "output_type": "stream",
     "text": [
      "Loading dataset into memory...\n"
     ]
    },
    {
     "name": "stderr",
     "output_type": "stream",
     "text": [
      "100%|█████████████████████████████████████████████████████████████████████████████████| 375/375 [00:28<00:00, 13.05it/s]\n",
      "Testing: 100%|███████████████████████████████████████████████████████████████████| 26256/26256 [04:09<00:00, 105.04it/s]\n"
     ]
    },
    {
     "name": "stdout",
     "output_type": "stream",
     "text": [
      "Loading dataset into memory...\n"
     ]
    },
    {
     "name": "stderr",
     "output_type": "stream",
     "text": [
      "100%|█████████████████████████████████████████████████████████████████████████████████| 375/375 [00:28<00:00, 13.06it/s]\n",
      "Testing: 100%|███████████████████████████████████████████████████████████████████| 26256/26256 [04:10<00:00, 104.97it/s]\n"
     ]
    },
    {
     "name": "stdout",
     "output_type": "stream",
     "text": [
      "Loading dataset into memory...\n"
     ]
    },
    {
     "name": "stderr",
     "output_type": "stream",
     "text": [
      "100%|█████████████████████████████████████████████████████████████████████████████████| 375/375 [00:28<00:00, 13.16it/s]\n",
      "Testing: 100%|███████████████████████████████████████████████████████████████████| 26256/26256 [04:08<00:00, 105.64it/s]\n"
     ]
    },
    {
     "name": "stdout",
     "output_type": "stream",
     "text": [
      "Loading dataset into memory...\n"
     ]
    },
    {
     "name": "stderr",
     "output_type": "stream",
     "text": [
      "100%|█████████████████████████████████████████████████████████████████████████████████| 375/375 [00:29<00:00, 12.58it/s]\n",
      "Testing: 100%|███████████████████████████████████████████████████████████████████| 26256/26256 [04:10<00:00, 104.75it/s]\n"
     ]
    },
    {
     "name": "stdout",
     "output_type": "stream",
     "text": [
      "Loading dataset into memory...\n"
     ]
    },
    {
     "name": "stderr",
     "output_type": "stream",
     "text": [
      "100%|█████████████████████████████████████████████████████████████████████████████████| 375/375 [00:28<00:00, 13.21it/s]\n",
      "Testing: 100%|███████████████████████████████████████████████████████████████████| 26256/26256 [04:13<00:00, 103.72it/s]\n"
     ]
    },
    {
     "name": "stdout",
     "output_type": "stream",
     "text": [
      "Loading dataset into memory...\n"
     ]
    },
    {
     "name": "stderr",
     "output_type": "stream",
     "text": [
      "100%|█████████████████████████████████████████████████████████████████████████████████| 375/375 [00:28<00:00, 13.23it/s]\n",
      "Testing: 100%|███████████████████████████████████████████████████████████████████| 26256/26256 [04:15<00:00, 102.81it/s]\n"
     ]
    },
    {
     "name": "stdout",
     "output_type": "stream",
     "text": [
      "Loading dataset into memory...\n"
     ]
    },
    {
     "name": "stderr",
     "output_type": "stream",
     "text": [
      "100%|█████████████████████████████████████████████████████████████████████████████████| 375/375 [00:28<00:00, 13.18it/s]\n",
      "Testing: 100%|███████████████████████████████████████████████████████████████████| 26256/26256 [04:13<00:00, 103.71it/s]\n"
     ]
    },
    {
     "name": "stdout",
     "output_type": "stream",
     "text": [
      "Loading dataset into memory...\n"
     ]
    },
    {
     "name": "stderr",
     "output_type": "stream",
     "text": [
      "100%|█████████████████████████████████████████████████████████████████████████████████| 375/375 [00:30<00:00, 12.40it/s]\n",
      "Testing: 100%|███████████████████████████████████████████████████████████████████| 26256/26256 [04:15<00:00, 102.68it/s]\n"
     ]
    },
    {
     "name": "stdout",
     "output_type": "stream",
     "text": [
      "Loading dataset into memory...\n"
     ]
    },
    {
     "name": "stderr",
     "output_type": "stream",
     "text": [
      "100%|█████████████████████████████████████████████████████████████████████████████████| 375/375 [00:28<00:00, 13.20it/s]\n",
      "Testing: 100%|███████████████████████████████████████████████████████████████████| 26256/26256 [04:13<00:00, 103.44it/s]\n"
     ]
    },
    {
     "name": "stdout",
     "output_type": "stream",
     "text": [
      "Loading dataset into memory...\n"
     ]
    },
    {
     "name": "stderr",
     "output_type": "stream",
     "text": [
      "100%|█████████████████████████████████████████████████████████████████████████████████| 375/375 [00:27<00:00, 13.41it/s]\n",
      "Testing: 100%|███████████████████████████████████████████████████████████████████| 26256/26256 [04:14<00:00, 103.08it/s]\n"
     ]
    }
   ],
   "source": [
    "results = defaultdict(lambda: {})\n",
    "for architecture in [\"MLP\", \"GCN\", \"ResGCN\", \"GCNII\"]:\n",
    "    for adjacency_type in [\"isolated\", \"binary\", \"stream_length\", \"elevation_difference\", \"average_slope\", \"learned\"]:\n",
    "        chkpt = functions.load_checkpoint(f\"runs/topology/{architecture}_downstream_{adjacency_type}_0.run\")\n",
    "        model, dataset = functions.load_model_and_dataset(chkpt)\n",
    "        results[architecture][adjacency_type] = functions.evaluate_mse_nse(model, dataset)"
   ]
  },
  {
   "cell_type": "code",
   "execution_count": 4,
   "id": "dcba6ae4",
   "metadata": {},
   "outputs": [
    {
     "name": "stdout",
     "output_type": "stream",
     "text": [
      "MLP isolated\n",
      "         test_mse    test_nse\n",
      "count  375.000000  375.000000\n",
      "mean    13.199625    0.984638\n",
      "std     62.330093    0.034566\n",
      "min      0.000044    0.658576\n",
      "25%      0.010483    0.987592\n",
      "50%      0.057777    0.994281\n",
      "75%      0.352279    0.997337\n",
      "max    577.786560    0.999911\n",
      "\n",
      "MLP binary\n",
      "         test_mse    test_nse\n",
      "count  375.000000  375.000000\n",
      "mean    13.199625    0.984638\n",
      "std     62.330093    0.034566\n",
      "min      0.000044    0.658576\n",
      "25%      0.010483    0.987592\n",
      "50%      0.057777    0.994281\n",
      "75%      0.352279    0.997337\n",
      "max    577.786560    0.999911\n",
      "\n",
      "MLP stream_length\n",
      "         test_mse    test_nse\n",
      "count  375.000000  375.000000\n",
      "mean    13.199625    0.984638\n",
      "std     62.330093    0.034566\n",
      "min      0.000044    0.658576\n",
      "25%      0.010483    0.987592\n",
      "50%      0.057777    0.994281\n",
      "75%      0.352279    0.997337\n",
      "max    577.786560    0.999911\n",
      "\n",
      "MLP elevation_difference\n",
      "         test_mse    test_nse\n",
      "count  375.000000  375.000000\n",
      "mean    13.199625    0.984638\n",
      "std     62.330093    0.034566\n",
      "min      0.000044    0.658576\n",
      "25%      0.010483    0.987592\n",
      "50%      0.057777    0.994281\n",
      "75%      0.352279    0.997337\n",
      "max    577.786560    0.999911\n",
      "\n",
      "MLP average_slope\n",
      "         test_mse    test_nse\n",
      "count  375.000000  375.000000\n",
      "mean    13.199625    0.984638\n",
      "std     62.330093    0.034566\n",
      "min      0.000044    0.658576\n",
      "25%      0.010483    0.987592\n",
      "50%      0.057777    0.994281\n",
      "75%      0.352279    0.997337\n",
      "max    577.786560    0.999911\n",
      "\n",
      "MLP learned\n",
      "         test_mse    test_nse\n",
      "count  375.000000  375.000000\n",
      "mean    11.994676    0.984913\n",
      "std     56.134335    0.033677\n",
      "min      0.000043    0.667273\n",
      "25%      0.010357    0.987680\n",
      "50%      0.056029    0.994296\n",
      "75%      0.334932    0.997411\n",
      "max    537.935181    0.999947\n",
      "\n",
      "GCN isolated\n",
      "         test_mse    test_nse\n",
      "count  375.000000  375.000000\n",
      "mean    12.000256    0.984942\n",
      "std     56.282883    0.033974\n",
      "min      0.000045    0.665629\n",
      "25%      0.010128    0.987720\n",
      "50%      0.055482    0.994276\n",
      "75%      0.335190    0.997402\n",
      "max    544.759583    0.999950\n",
      "\n",
      "GCN binary\n",
      "            test_mse    test_nse\n",
      "count     375.000000  375.000000\n",
      "mean     3703.256592    0.440643\n",
      "std     31918.195312    0.513544\n",
      "min         0.000150   -3.578847\n",
      "25%         0.416389    0.161094\n",
      "50%         2.389680    0.448742\n",
      "75%        18.098400    0.898980\n",
      "max    353689.468750    0.999271\n",
      "\n",
      "GCN stream_length\n",
      "            test_mse    test_nse\n",
      "count     375.000000  375.000000\n",
      "mean     3794.235596    0.440368\n",
      "std     33002.660156    0.512849\n",
      "min         0.000338   -3.586547\n",
      "25%         0.457801    0.165293\n",
      "50%         2.664958    0.444625\n",
      "75%        18.271690    0.900268\n",
      "max    441067.937500    0.998349\n",
      "\n",
      "GCN elevation_difference\n",
      "            test_mse    test_nse\n",
      "count     375.000000  375.000000\n",
      "mean     5004.340820    0.435713\n",
      "std     43110.359375    0.510904\n",
      "min         0.000287   -3.586591\n",
      "25%         0.433283    0.163679\n",
      "50%         2.417542    0.442106\n",
      "75%        18.350004    0.884394\n",
      "max    494083.031250    0.998599\n",
      "\n",
      "GCN average_slope\n",
      "            test_mse    test_nse\n",
      "count     375.000000  375.000000\n",
      "mean     4523.300293    0.434936\n",
      "std     38326.027344    0.510305\n",
      "min         0.000165   -3.587137\n",
      "25%         0.440854    0.165292\n",
      "50%         2.600906    0.444596\n",
      "75%        18.348105    0.895361\n",
      "max    399617.812500    0.999194\n",
      "\n",
      "GCN learned\n",
      "            test_mse    test_nse\n",
      "count     375.000000  375.000000\n",
      "mean     1943.691162    0.453505\n",
      "std     15844.012695    0.521559\n",
      "min         0.000223   -3.590042\n",
      "25%         0.416554    0.165291\n",
      "50%         2.370544    0.453107\n",
      "75%        15.483130    0.927956\n",
      "max    165282.937500    0.998912\n",
      "\n",
      "ResGCN isolated\n",
      "          test_mse    test_nse\n",
      "count   375.000000  375.000000\n",
      "mean     23.792027    0.980517\n",
      "std     117.869377    0.042956\n",
      "min       0.000055    0.567624\n",
      "25%       0.013403    0.984382\n",
      "50%       0.074940    0.992421\n",
      "75%       0.449766    0.996102\n",
      "max    1159.509766    0.999617\n",
      "\n",
      "ResGCN binary\n",
      "          test_mse    test_nse\n",
      "count   375.000000  375.000000\n",
      "mean     39.146339    0.983321\n",
      "std     265.614380    0.037564\n",
      "min       0.000040    0.633688\n",
      "25%       0.011998    0.986961\n",
      "50%       0.062282    0.993586\n",
      "75%       0.385331    0.996966\n",
      "max    3205.976074    0.999703\n",
      "\n",
      "ResGCN stream_length\n",
      "           test_mse    test_nse\n",
      "count    375.000000  375.000000\n",
      "mean     127.642487    0.982578\n",
      "std     1725.309814    0.038111\n",
      "min        0.000039    0.634286\n",
      "25%        0.012438    0.985589\n",
      "50%        0.064315    0.993003\n",
      "75%        0.400590    0.996671\n",
      "max    32866.527344    0.999622\n",
      "\n",
      "ResGCN elevation_difference\n",
      "          test_mse    test_nse\n",
      "count   375.000000  375.000000\n",
      "mean     48.146858    0.983157\n",
      "std     513.162659    0.037209\n",
      "min       0.000041    0.637754\n",
      "25%       0.012602    0.986611\n",
      "50%       0.061005    0.993155\n",
      "75%       0.397485    0.996844\n",
      "max    9462.964844    0.999581\n",
      "\n",
      "ResGCN average_slope\n",
      "          test_mse    test_nse\n",
      "count   375.000000  375.000000\n",
      "mean     21.828678    0.983472\n",
      "std     123.553467    0.036900\n",
      "min       0.000041    0.637512\n",
      "25%       0.012496    0.986831\n",
      "50%       0.059801    0.993591\n",
      "75%       0.387394    0.996909\n",
      "max    1439.563110    0.999593\n",
      "\n",
      "ResGCN learned\n",
      "          test_mse    test_nse\n",
      "count   375.000000  375.000000\n",
      "mean     36.072155    0.983357\n",
      "std     248.555298    0.037264\n",
      "min       0.000041    0.636287\n",
      "25%       0.012853    0.986786\n",
      "50%       0.062866    0.993590\n",
      "75%       0.394579    0.996896\n",
      "max    3125.675781    0.999573\n",
      "\n",
      "GCNII isolated\n",
      "         test_mse    test_nse\n",
      "count  375.000000  375.000000\n",
      "mean    12.238627    0.984886\n",
      "std     57.957157    0.034418\n",
      "min      0.000043    0.659855\n",
      "25%      0.010375    0.988152\n",
      "50%      0.055440    0.994381\n",
      "75%      0.334762    0.997428\n",
      "max    559.916077    0.999945\n",
      "\n",
      "GCNII binary\n",
      "          test_mse    test_nse\n",
      "count   375.000000  375.000000\n",
      "mean     22.300980    0.984590\n",
      "std     149.186615    0.035600\n",
      "min       0.000043    0.641055\n",
      "25%       0.010709    0.987731\n",
      "50%       0.056460    0.994144\n",
      "75%       0.348472    0.997355\n",
      "max    2116.209961    0.999706\n",
      "\n",
      "GCNII stream_length\n",
      "          test_mse    test_nse\n",
      "count   375.000000  375.000000\n",
      "mean     26.842579    0.984538\n",
      "std     214.691483    0.035643\n",
      "min       0.000044    0.641399\n",
      "25%       0.010642    0.987716\n",
      "50%       0.053908    0.994178\n",
      "75%       0.349033    0.997294\n",
      "max    3629.998535    0.999704\n",
      "\n",
      "GCNII elevation_difference\n",
      "          test_mse    test_nse\n",
      "count   375.000000  375.000000\n",
      "mean     20.295551    0.984471\n",
      "std     140.210709    0.035665\n",
      "min       0.000044    0.646636\n",
      "25%       0.010684    0.987724\n",
      "50%       0.055953    0.994165\n",
      "75%       0.350272    0.997334\n",
      "max    2278.986328    0.999743\n",
      "\n",
      "GCNII average_slope\n",
      "         test_mse    test_nse\n",
      "count  375.000000  375.000000\n",
      "mean    16.165318    0.984562\n",
      "std     86.786034    0.035722\n",
      "min      0.000044    0.644942\n",
      "25%      0.010474    0.987672\n",
      "50%      0.055659    0.994171\n",
      "75%      0.347626    0.997382\n",
      "max    924.819824    0.999709\n",
      "\n",
      "GCNII learned\n",
      "         test_mse    test_nse\n",
      "count  375.000000  375.000000\n",
      "mean    10.846065    0.984979\n",
      "std     57.607510    0.035652\n",
      "min      0.000045    0.631715\n",
      "25%      0.010368    0.987892\n",
      "50%      0.052925    0.994419\n",
      "75%      0.326452    0.997512\n",
      "max    571.211304    0.999913\n",
      "\n"
     ]
    }
   ],
   "source": [
    "for architecture in [\"MLP\", \"GCN\", \"ResGCN\", \"GCNII\"]:\n",
    "    for adjacency_type in [\"isolated\", \"binary\", \"stream_length\", \"elevation_difference\", \"average_slope\", \"learned\"]:\n",
    "        print(architecture, adjacency_type)\n",
    "        test_mse, test_nse = results[architecture][adjacency_type]\n",
    "        print(pd.DataFrame({\n",
    "            \"test_mse\": test_mse.squeeze(),\n",
    "            \"test_nse\": test_nse.squeeze()}\n",
    "        ).describe(), end=\"\\n\\n\")"
   ]
  },
  {
   "cell_type": "code",
   "execution_count": 14,
   "id": "5af2da0b-8686-4f4c-82cf-459b31811dd6",
   "metadata": {
    "execution": {
     "iopub.execute_input": "2023-04-23T22:28:37.769332Z",
     "iopub.status.busy": "2023-04-23T22:28:37.769065Z",
     "iopub.status.idle": "2023-04-23T22:28:37.866663Z",
     "shell.execute_reply": "2023-04-23T22:28:37.865963Z",
     "shell.execute_reply.started": "2023-04-23T22:28:37.769313Z"
    }
   },
   "outputs": [
    {
     "name": "stdout",
     "output_type": "stream",
     "text": [
      "downstream average_slope\n",
      "         test_mse    test_nse\n",
      "count  375.000000  375.000000\n",
      "mean    13.693826    0.986245\n",
      "std     75.075493    0.029520\n",
      "min      0.000036    0.699782\n",
      "25%      0.010725    0.987218\n",
      "50%      0.055316    0.994410\n",
      "75%      0.371304    0.997526\n",
      "max    751.975525    0.999872\n",
      "\n",
      "downstream learned\n",
      "         test_mse    test_nse\n",
      "count  375.000000  375.000000\n",
      "mean    11.001119    0.986557\n",
      "std     60.499039    0.029562\n",
      "min      0.000036    0.686041\n",
      "25%      0.010455    0.987532\n",
      "50%      0.056033    0.994451\n",
      "75%      0.386373    0.997576\n",
      "max    641.763062    0.999860\n",
      "\n",
      "downstream elevation_difference\n",
      "         test_mse    test_nse\n",
      "count  375.000000  375.000000\n",
      "mean    17.648624    0.985903\n",
      "std     96.139336    0.029973\n",
      "min      0.000037    0.688440\n",
      "25%      0.010676    0.987140\n",
      "50%      0.059997    0.994088\n",
      "75%      0.419940    0.997268\n",
      "max    863.505127    0.999851\n",
      "\n",
      "downstream binary\n",
      "         test_mse    test_nse\n",
      "count  375.000000  375.000000\n",
      "mean    15.289621    0.986020\n",
      "std     85.627930    0.029576\n",
      "min      0.000036    0.703364\n",
      "25%      0.011141    0.987201\n",
      "50%      0.058513    0.994103\n",
      "75%      0.408021    0.997381\n",
      "max    900.329712    0.999876\n",
      "\n",
      "downstream isolated\n",
      "         test_mse    test_nse\n",
      "count  375.000000  375.000000\n",
      "mean    17.012480    0.986624\n",
      "std     84.851021    0.027115\n",
      "min      0.000035    0.731412\n",
      "25%      0.010700    0.988442\n",
      "50%      0.059544    0.994119\n",
      "75%      0.417563    0.997242\n",
      "max    767.823914    0.999857\n",
      "\n",
      "downstream stream_length\n",
      "         test_mse    test_nse\n",
      "count  375.000000  375.000000\n",
      "mean    13.603461    0.986209\n",
      "std     74.788422    0.029724\n",
      "min      0.000036    0.696665\n",
      "25%      0.010602    0.987289\n",
      "50%      0.055444    0.994416\n",
      "75%      0.378244    0.997543\n",
      "max    812.568787    0.999880\n",
      "\n",
      "upstream learned\n",
      "         test_mse    test_nse\n",
      "count  375.000000  375.000000\n",
      "mean    13.713448    0.986527\n",
      "std     68.829681    0.029098\n",
      "min      0.000034    0.707506\n",
      "25%      0.009477    0.988267\n",
      "50%      0.057066    0.994361\n",
      "75%      0.396868    0.997427\n",
      "max    683.034668    0.999965\n",
      "\n",
      "upstream isolated\n",
      "         test_mse    test_nse\n",
      "count  375.000000  375.000000\n",
      "mean    17.012480    0.986624\n",
      "std     84.851021    0.027115\n",
      "min      0.000035    0.731412\n",
      "25%      0.010700    0.988442\n",
      "50%      0.059544    0.994119\n",
      "75%      0.417563    0.997242\n",
      "max    767.823914    0.999857\n",
      "\n",
      "upstream average_slope\n",
      "         test_mse    test_nse\n",
      "count  375.000000  375.000000\n",
      "mean    14.068788    0.983579\n",
      "std     71.577362    0.037522\n",
      "min      0.000046    0.505478\n",
      "25%      0.013764    0.985774\n",
      "50%      0.068470    0.992705\n",
      "75%      0.444410    0.996453\n",
      "max    716.096191    0.999955\n",
      "\n",
      "upstream binary\n",
      "         test_mse    test_nse\n",
      "count  375.000000  375.000000\n",
      "mean    14.270362    0.981281\n",
      "std     71.603119    0.035974\n",
      "min      0.000064    0.568156\n",
      "25%      0.015706    0.979946\n",
      "50%      0.080291    0.991606\n",
      "75%      0.550204    0.995547\n",
      "max    727.547424    0.999944\n",
      "\n",
      "upstream stream_length\n",
      "         test_mse    test_nse\n",
      "count  375.000000  375.000000\n",
      "mean    14.422802    0.983818\n",
      "std     74.439140    0.032856\n",
      "min      0.000062    0.620021\n",
      "25%      0.014097    0.984552\n",
      "50%      0.067466    0.992532\n",
      "75%      0.466087    0.996410\n",
      "max    716.932617    0.999956\n",
      "\n",
      "upstream elevation_difference\n",
      "         test_mse    test_nse\n",
      "count  375.000000  375.000000\n",
      "mean    18.449566    0.983989\n",
      "std     92.705406    0.034174\n",
      "min      0.000051    0.586729\n",
      "25%      0.012714    0.985827\n",
      "50%      0.079370    0.992773\n",
      "75%      0.504999    0.996512\n",
      "max    743.131226    0.999815\n",
      "\n",
      "bidirectional isolated\n",
      "         test_mse    test_nse\n",
      "count  375.000000  375.000000\n",
      "mean    17.012480    0.986624\n",
      "std     84.851021    0.027115\n",
      "min      0.000035    0.731412\n",
      "25%      0.010700    0.988442\n",
      "50%      0.059544    0.994119\n",
      "75%      0.417563    0.997242\n",
      "max    767.823914    0.999857\n",
      "\n",
      "bidirectional binary\n",
      "          test_mse    test_nse\n",
      "count   375.000000  375.000000\n",
      "mean     23.430773    0.987241\n",
      "std     151.531540    0.027360\n",
      "min       0.000031    0.726078\n",
      "25%       0.009244    0.989041\n",
      "50%       0.053352    0.994693\n",
      "75%       0.374314    0.997627\n",
      "max    2017.916504    0.999858\n",
      "\n",
      "bidirectional stream_length\n",
      "          test_mse    test_nse\n",
      "count   375.000000  375.000000\n",
      "mean     21.532526    0.987385\n",
      "std     136.511963    0.027036\n",
      "min       0.000032    0.731804\n",
      "25%       0.009595    0.989187\n",
      "50%       0.053573    0.994833\n",
      "75%       0.354580    0.997663\n",
      "max    1818.413696    0.999856\n",
      "\n",
      "bidirectional average_slope\n",
      "          test_mse    test_nse\n",
      "count   375.000000  375.000000\n",
      "mean     23.801638    0.987250\n",
      "std     158.859360    0.027233\n",
      "min       0.000031    0.728415\n",
      "25%       0.010035    0.989056\n",
      "50%       0.057149    0.994850\n",
      "75%       0.367099    0.997569\n",
      "max    2162.195312    0.999828\n",
      "\n",
      "bidirectional elevation_difference\n",
      "          test_mse    test_nse\n",
      "count   375.000000  375.000000\n",
      "mean     35.162918    0.986336\n",
      "std     256.151215    0.027676\n",
      "min       0.000035    0.722936\n",
      "25%       0.011399    0.987984\n",
      "50%       0.067621    0.993826\n",
      "75%       0.414558    0.996868\n",
      "max    3905.990479    0.999643\n",
      "\n",
      "bidirectional learned\n",
      "          test_mse    test_nse\n",
      "count   375.000000  375.000000\n",
      "mean     25.312752    0.987156\n",
      "std     170.213028    0.027890\n",
      "min       0.000033    0.725316\n",
      "25%       0.010159    0.989034\n",
      "50%       0.056086    0.994751\n",
      "75%       0.369063    0.997516\n",
      "max    2416.863770    0.999796\n",
      "\n"
     ]
    }
   ],
   "source": [
    "for edge_orientation, sub_results in results.items():\n",
    "    for adjacency_type, (test_mse, test_nse) in sub_results.items():\n",
    "        print(edge_orientation, adjacency_type)\n",
    "        print(pd.DataFrame({\n",
    "            \"test_mse\": test_mse.squeeze(),\n",
    "            \"test_nse\": test_nse.squeeze()}\n",
    "        ).describe(), end=\"\\n\\n\")"
   ]
  }
 ],
 "metadata": {
  "kernelspec": {
   "display_name": "Python 3 (ipykernel)",
   "language": "python",
   "name": "python3"
  },
  "language_info": {
   "codemirror_mode": {
    "name": "ipython",
    "version": 3
   },
   "file_extension": ".py",
   "mimetype": "text/x-python",
   "name": "python",
   "nbconvert_exporter": "python",
   "pygments_lexer": "ipython3",
   "version": "3.11.4"
  }
 },
 "nbformat": 4,
 "nbformat_minor": 5
}
