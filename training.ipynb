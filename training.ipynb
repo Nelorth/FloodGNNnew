{
 "cells": [
  {
   "cell_type": "code",
   "execution_count": 1,
   "metadata": {
    "execution": {
     "iopub.execute_input": "2023-04-24T15:35:51.883633Z",
     "iopub.status.busy": "2023-04-24T15:35:51.883356Z",
     "iopub.status.idle": "2023-04-24T15:36:01.438318Z",
     "shell.execute_reply": "2023-04-24T15:36:01.437261Z",
     "shell.execute_reply.started": "2023-04-24T15:35:51.883612Z"
    }
   },
   "outputs": [
    {
     "name": "stdout",
     "output_type": "stream",
     "text": [
      "\u001B[33mWARNING: Running pip as the 'root' user can result in broken permissions and conflicting behaviour with the system package manager. It is recommended to use a virtual environment instead: https://pip.pypa.io/warnings/venv\u001B[0m\u001B[33m\n",
      "\u001B[0mNote: you may need to restart the kernel to use updated packages.\n"
     ]
    }
   ],
   "source": [
    "%pip install -q matplotlib networkx pandas torchinfo\n",
    "%load_ext autoreload\n",
    "%autoreload 2"
   ]
  },
  {
   "cell_type": "code",
   "execution_count": 2,
   "metadata": {
    "execution": {
     "iopub.execute_input": "2023-04-24T15:36:01.439556Z",
     "iopub.status.busy": "2023-04-24T15:36:01.439381Z",
     "iopub.status.idle": "2023-04-24T15:36:05.051472Z",
     "shell.execute_reply": "2023-04-24T15:36:05.050786Z",
     "shell.execute_reply.started": "2023-04-24T15:36:01.439536Z"
    },
    "id": "t441Wt-pO5Fo"
   },
   "outputs": [],
   "source": [
    "import functions"
   ]
  },
  {
   "cell_type": "code",
   "execution_count": 3,
   "metadata": {
    "execution": {
     "iopub.execute_input": "2023-04-24T15:36:05.052935Z",
     "iopub.status.busy": "2023-04-24T15:36:05.052683Z",
     "iopub.status.idle": "2023-04-24T15:36:05.070916Z",
     "shell.execute_reply": "2023-04-24T15:36:05.070340Z",
     "shell.execute_reply.started": "2023-04-24T15:36:05.052916Z"
    },
    "id": "2WtQH9ixOo7R"
   },
   "outputs": [],
   "source": [
    "HPARAMS = {\n",
    "    \"data\": {\n",
    "        \"window_size\": 24,\n",
    "        \"stride_length\": 1,\n",
    "        \"lead_time\": 1,\n",
    "        \"normalized\": True\n",
    "    },\n",
    "    \"model\": {\n",
    "        \"architecture\": \"ResGCN\",\n",
    "        \"num_layers\": 20,\n",
    "        \"hidden_channels\": 64,\n",
    "        \"param_sharing\": False,\n",
    "        \"graff_step_size\": 1,\n",
    "        \"edge_orientation\": \"downstream\",\n",
    "        \"adjacency_type\": \"learned\"\n",
    "    },\n",
    "    \"training\": {\n",
    "        \"num_epochs\": 20,\n",
    "        \"batch_size\": 16,\n",
    "        \"learning_rate\": 1e-4,\n",
    "        \"weight_decay\": 0,\n",
    "        \"random_seed\": 42,\n",
    "        \"holdout_size\": 0.25\n",
    "    }\n",
    "}"
   ]
  },
  {
   "cell_type": "code",
   "execution_count": 4,
   "metadata": {
    "execution": {
     "iopub.execute_input": "2023-04-24T15:36:05.071879Z",
     "iopub.status.busy": "2023-04-24T15:36:05.071706Z",
     "iopub.status.idle": "2023-04-24T15:36:05.105240Z",
     "shell.execute_reply": "2023-04-24T15:36:05.104600Z",
     "shell.execute_reply.started": "2023-04-24T15:36:05.071861Z"
    },
    "id": "cSz0Dz2zkKGg"
   },
   "outputs": [],
   "source": [
    "functions.ensure_reproducibility(HPARAMS[\"training\"][\"random_seed\"])"
   ]
  },
  {
   "cell_type": "code",
   "execution_count": null,
   "metadata": {
    "colab": {
     "base_uri": "https://localhost:8080/",
     "height": 517
    },
    "execution": {
     "iopub.execute_input": "2023-04-24T15:36:05.106108Z",
     "iopub.status.busy": "2023-04-24T15:36:05.105925Z"
    },
    "id": "JDW3LJlrbtfX",
    "outputId": "de09d2bd-7aac-417f-f875-5b308ca23a09"
   },
   "outputs": [
    {
     "name": "stdout",
     "output_type": "stream",
     "text": [
      "Loading dataset into memory...\n"
     ]
    },
    {
     "name": "stderr",
     "output_type": "stream",
     "text": [
      "100%|██████████| 375/375 [00:31<00:00, 12.05it/s]\n"
     ]
    },
    {
     "name": "stdout",
     "output_type": "stream",
     "text": [
      "=================================================================\n",
      "Layer (type:depth-idx)                   Param #\n",
      "=================================================================\n",
      "ResGCN                                   --\n",
      "├─Linear: 1-1                            1,600\n",
      "├─Linear: 1-2                            65\n",
      "├─ModuleList: 1-3                        --\n",
      "│    └─GCNConv: 2-1                      4,160\n",
      "│    └─GCNConv: 2-2                      4,160\n",
      "│    └─GCNConv: 2-3                      4,160\n",
      "│    └─GCNConv: 2-4                      4,160\n",
      "│    └─GCNConv: 2-5                      4,160\n",
      "│    └─GCNConv: 2-6                      4,160\n",
      "│    └─GCNConv: 2-7                      4,160\n",
      "│    └─GCNConv: 2-8                      4,160\n",
      "│    └─GCNConv: 2-9                      4,160\n",
      "│    └─GCNConv: 2-10                     4,160\n",
      "│    └─GCNConv: 2-11                     4,160\n",
      "│    └─GCNConv: 2-12                     4,160\n",
      "│    └─GCNConv: 2-13                     4,160\n",
      "│    └─GCNConv: 2-14                     4,160\n",
      "│    └─GCNConv: 2-15                     4,160\n",
      "│    └─GCNConv: 2-16                     4,160\n",
      "│    └─GCNConv: 2-17                     4,160\n",
      "│    └─GCNConv: 2-18                     4,160\n",
      "│    └─GCNConv: 2-19                     4,160\n",
      "│    └─GCNConv: 2-20                     4,160\n",
      "=================================================================\n",
      "Total params: 84,865\n",
      "Trainable params: 84,865\n",
      "Non-trainable params: 0\n",
      "=================================================================\n"
     ]
    },
    {
     "name": "stderr",
     "output_type": "stream",
     "text": [
      "Graph compilation: 100%|██████████| 100/100 [01:37<00:00]\n"
     ]
    },
    {
     "name": "stdout",
     "output_type": "stream",
     "text": [
      "Training on IPU\n"
     ]
    },
    {
     "name": "stderr",
     "output_type": "stream",
     "text": [
      "Training: 100%|██████████| 6556/6556 [00:51<00:00, 127.50it/s]\n",
      "Validating: 100%|██████████| 2185/2185 [00:17<00:00, 127.64it/s]\n",
      "/usr/local/lib/python3.8/dist-packages/torch/nn/modules/module.py:1432: UserWarning: Positional args are being deprecated, use kwargs instead. Refer to https://pytorch.org/docs/master/generated/torch.nn.Module.html#torch.nn.Module.state_dict for details.\n",
      "  warnings.warn(\n"
     ]
    },
    {
     "name": "stdout",
     "output_type": "stream",
     "text": [
      "[Epoch 1/20] Train: 92.7849 | Val 0.7559\n"
     ]
    },
    {
     "name": "stderr",
     "output_type": "stream",
     "text": [
      "Training: 100%|██████████| 6556/6556 [00:50<00:00, 128.88it/s]\n",
      "Validating: 100%|██████████| 2185/2185 [00:17<00:00, 127.14it/s]\n"
     ]
    },
    {
     "name": "stdout",
     "output_type": "stream",
     "text": [
      "[Epoch 2/20] Train: 0.7874 | Val 0.1367\n"
     ]
    },
    {
     "name": "stderr",
     "output_type": "stream",
     "text": [
      "Training: 100%|██████████| 6556/6556 [00:51<00:00, 126.41it/s]\n",
      "Validating: 100%|██████████| 2185/2185 [00:17<00:00, 127.41it/s]\n"
     ]
    },
    {
     "name": "stdout",
     "output_type": "stream",
     "text": [
      "[Epoch 3/20] Train: 0.1274 | Val 0.0589\n"
     ]
    },
    {
     "name": "stderr",
     "output_type": "stream",
     "text": [
      "Training: 100%|██████████| 6556/6556 [00:51<00:00, 127.90it/s]\n",
      "Validating: 100%|██████████| 2185/2185 [00:17<00:00, 126.99it/s]\n"
     ]
    },
    {
     "name": "stdout",
     "output_type": "stream",
     "text": [
      "[Epoch 4/20] Train: 0.0342 | Val 0.0343\n"
     ]
    },
    {
     "name": "stderr",
     "output_type": "stream",
     "text": [
      "Training: 100%|██████████| 6556/6556 [00:51<00:00, 127.65it/s]\n",
      "Validating: 100%|██████████| 2185/2185 [00:17<00:00, 126.77it/s]\n"
     ]
    },
    {
     "name": "stdout",
     "output_type": "stream",
     "text": [
      "[Epoch 5/20] Train: 0.0220 | Val 0.0231\n"
     ]
    },
    {
     "name": "stderr",
     "output_type": "stream",
     "text": [
      "Training: 100%|██████████| 6556/6556 [00:51<00:00, 127.63it/s]\n",
      "Validating: 100%|██████████| 2185/2185 [00:17<00:00, 127.81it/s]\n"
     ]
    },
    {
     "name": "stdout",
     "output_type": "stream",
     "text": [
      "[Epoch 6/20] Train: 0.0196 | Val 0.0217\n"
     ]
    },
    {
     "name": "stderr",
     "output_type": "stream",
     "text": [
      "Training: 100%|██████████| 6556/6556 [00:51<00:00, 127.12it/s]\n",
      "Validating: 100%|██████████| 2185/2185 [00:17<00:00, 126.93it/s]\n"
     ]
    },
    {
     "name": "stdout",
     "output_type": "stream",
     "text": [
      "[Epoch 7/20] Train: 0.0180 | Val 0.0207\n"
     ]
    },
    {
     "name": "stderr",
     "output_type": "stream",
     "text": [
      "Training: 100%|██████████| 6556/6556 [00:51<00:00, 127.09it/s]\n",
      "Validating: 100%|██████████| 2185/2185 [00:17<00:00, 126.29it/s]\n"
     ]
    },
    {
     "name": "stdout",
     "output_type": "stream",
     "text": [
      "[Epoch 8/20] Train: 0.0173 | Val 0.0199\n"
     ]
    },
    {
     "name": "stderr",
     "output_type": "stream",
     "text": [
      "Training: 100%|██████████| 6556/6556 [00:51<00:00, 126.15it/s]\n",
      "Validating: 100%|██████████| 2185/2185 [00:17<00:00, 127.06it/s]\n"
     ]
    },
    {
     "name": "stdout",
     "output_type": "stream",
     "text": [
      "[Epoch 9/20] Train: 0.0169 | Val 0.0197\n"
     ]
    },
    {
     "name": "stderr",
     "output_type": "stream",
     "text": [
      "Training: 100%|██████████| 6556/6556 [00:51<00:00, 126.74it/s]\n",
      "Validating: 100%|██████████| 2185/2185 [00:17<00:00, 127.00it/s]\n"
     ]
    },
    {
     "name": "stdout",
     "output_type": "stream",
     "text": [
      "[Epoch 10/20] Train: 0.0166 | Val 0.0188\n"
     ]
    },
    {
     "name": "stderr",
     "output_type": "stream",
     "text": [
      "Training: 100%|██████████| 6556/6556 [00:51<00:00, 128.13it/s]\n",
      "Validating: 100%|██████████| 2185/2185 [00:17<00:00, 127.52it/s]\n"
     ]
    },
    {
     "name": "stdout",
     "output_type": "stream",
     "text": [
      "[Epoch 11/20] Train: 0.0164 | Val 0.0187\n"
     ]
    },
    {
     "name": "stderr",
     "output_type": "stream",
     "text": [
      "Training: 100%|██████████| 6556/6556 [00:51<00:00, 127.34it/s]\n",
      "Validating: 100%|██████████| 2185/2185 [00:17<00:00, 127.70it/s]\n"
     ]
    },
    {
     "name": "stdout",
     "output_type": "stream",
     "text": [
      "[Epoch 12/20] Train: 0.0162 | Val 0.0184\n"
     ]
    },
    {
     "name": "stderr",
     "output_type": "stream",
     "text": [
      "Training: 100%|██████████| 6556/6556 [00:51<00:00, 128.28it/s]\n",
      "Validating: 100%|██████████| 2185/2185 [00:16<00:00, 129.28it/s]\n"
     ]
    },
    {
     "name": "stdout",
     "output_type": "stream",
     "text": [
      "[Epoch 13/20] Train: 0.0161 | Val 0.0181\n"
     ]
    },
    {
     "name": "stderr",
     "output_type": "stream",
     "text": [
      "Training: 100%|██████████| 6556/6556 [00:51<00:00, 127.33it/s]\n",
      "Validating: 100%|██████████| 2185/2185 [00:17<00:00, 126.59it/s]\n"
     ]
    },
    {
     "name": "stdout",
     "output_type": "stream",
     "text": [
      "[Epoch 14/20] Train: 0.0160 | Val 0.0180\n"
     ]
    },
    {
     "name": "stderr",
     "output_type": "stream",
     "text": [
      "Training: 100%|██████████| 6556/6556 [00:51<00:00, 127.41it/s]\n",
      "Validating: 100%|██████████| 2185/2185 [00:17<00:00, 128.37it/s]\n"
     ]
    },
    {
     "name": "stdout",
     "output_type": "stream",
     "text": [
      "[Epoch 15/20] Train: 0.0160 | Val 0.0177\n"
     ]
    },
    {
     "name": "stderr",
     "output_type": "stream",
     "text": [
      "Training: 100%|██████████| 6556/6556 [00:51<00:00, 127.80it/s]\n",
      "Validating: 100%|██████████| 2185/2185 [00:17<00:00, 127.49it/s]\n"
     ]
    },
    {
     "name": "stdout",
     "output_type": "stream",
     "text": [
      "[Epoch 16/20] Train: 0.0159 | Val 0.0179\n"
     ]
    },
    {
     "name": "stderr",
     "output_type": "stream",
     "text": [
      "Training: 100%|██████████| 6556/6556 [00:51<00:00, 127.92it/s]\n",
      "Validating: 100%|██████████| 2185/2185 [00:17<00:00, 128.03it/s]\n"
     ]
    },
    {
     "name": "stdout",
     "output_type": "stream",
     "text": [
      "[Epoch 17/20] Train: 0.0158 | Val 0.0180\n"
     ]
    },
    {
     "name": "stderr",
     "output_type": "stream",
     "text": [
      "Training: 100%|██████████| 6556/6556 [00:51<00:00, 126.47it/s]\n",
      "Validating: 100%|██████████| 2185/2185 [00:17<00:00, 127.49it/s]\n"
     ]
    },
    {
     "name": "stdout",
     "output_type": "stream",
     "text": [
      "[Epoch 18/20] Train: 0.0157 | Val 0.0176\n"
     ]
    },
    {
     "name": "stderr",
     "output_type": "stream",
     "text": [
      "Training: 100%|██████████| 6556/6556 [00:51<00:00, 127.84it/s]\n",
      "Validating: 100%|██████████| 2185/2185 [00:16<00:00, 128.60it/s]\n"
     ]
    },
    {
     "name": "stdout",
     "output_type": "stream",
     "text": [
      "[Epoch 19/20] Train: 0.0156 | Val 0.0182\n"
     ]
    },
    {
     "name": "stderr",
     "output_type": "stream",
     "text": [
      "Training: 100%|██████████| 6556/6556 [00:51<00:00, 128.52it/s]\n",
      "Validating: 100%|██████████| 2185/2185 [00:16<00:00, 129.64it/s]\n"
     ]
    },
    {
     "name": "stdout",
     "output_type": "stream",
     "text": [
      "[Epoch 20/20] Train: 0.0155 | Val 0.0179\n",
      "Loading dataset into memory...\n"
     ]
    },
    {
     "name": "stderr",
     "output_type": "stream",
     "text": [
      " 90%|█████████ | 339/375 [00:26<00:02, 12.65it/s]"
     ]
    }
   ],
   "source": [
    "for value in [\"isolated\", \"binary\", \"stream_length\", \"elevation_difference\", \"average_slope\", \"learned\"]:\n",
    "    HPARAMS[\"model\"][\"adjacency_type\"] = value\n",
    "    dataset = functions.load_dataset(HPARAMS, \"train\")\n",
    "    model = functions.construct_model(HPARAMS, dataset)\n",
    "    history = functions.train(model, dataset, HPARAMS, save_dir=\"runs/resgcn_adj_type_downstream\", on_ipu=True)"
   ]
  }
 ],
 "metadata": {
  "accelerator": "GPU",
  "colab": {
   "provenance": []
  },
  "gpuClass": "standard",
  "kernelspec": {
   "display_name": "Python 3",
   "language": "python",
   "name": "python3"
  },
  "language_info": {
   "codemirror_mode": {
    "name": "ipython",
    "version": 3
   },
   "file_extension": ".py",
   "mimetype": "text/x-python",
   "name": "python",
   "nbconvert_exporter": "python",
   "pygments_lexer": "ipython3",
   "version": "3.8.10"
  }
 },
 "nbformat": 4,
 "nbformat_minor": 4
}
