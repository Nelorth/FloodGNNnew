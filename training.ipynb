{
 "cells": [
  {
   "cell_type": "code",
   "execution_count": 1,
   "metadata": {
    "execution": {
     "iopub.execute_input": "2023-04-24T15:35:51.883633Z",
     "iopub.status.busy": "2023-04-24T15:35:51.883356Z",
     "iopub.status.idle": "2023-04-24T15:36:01.438318Z",
     "shell.execute_reply": "2023-04-24T15:36:01.437261Z",
     "shell.execute_reply.started": "2023-04-24T15:35:51.883612Z"
    }
   },
   "outputs": [
    {
     "name": "stdout",
     "output_type": "stream",
     "text": [
      "\u001b[33mWARNING: Running pip as the 'root' user can result in broken permissions and conflicting behaviour with the system package manager. It is recommended to use a virtual environment instead: https://pip.pypa.io/warnings/venv\u001b[0m\u001b[33m\n",
      "\u001b[0mNote: you may need to restart the kernel to use updated packages.\n"
     ]
    }
   ],
   "source": [
    "%pip install -q matplotlib networkx pandas torchinfo torch-geometric\n",
    "%load_ext autoreload\n",
    "%autoreload 2"
   ]
  },
  {
   "cell_type": "code",
   "execution_count": 1,
   "metadata": {
    "execution": {
     "iopub.execute_input": "2023-04-24T15:36:01.439556Z",
     "iopub.status.busy": "2023-04-24T15:36:01.439381Z",
     "iopub.status.idle": "2023-04-24T15:36:05.051472Z",
     "shell.execute_reply": "2023-04-24T15:36:05.050786Z",
     "shell.execute_reply.started": "2023-04-24T15:36:01.439536Z"
    },
    "id": "t441Wt-pO5Fo"
   },
   "outputs": [],
   "source": [
    "import functions"
   ]
  },
  {
   "cell_type": "code",
   "execution_count": 2,
   "metadata": {
    "execution": {
     "iopub.execute_input": "2023-04-24T15:36:05.052935Z",
     "iopub.status.busy": "2023-04-24T15:36:05.052683Z",
     "iopub.status.idle": "2023-04-24T15:36:05.070916Z",
     "shell.execute_reply": "2023-04-24T15:36:05.070340Z",
     "shell.execute_reply.started": "2023-04-24T15:36:05.052916Z"
    },
    "id": "2WtQH9ixOo7R"
   },
   "outputs": [],
   "source": [
    "HPARAMS = {\n",
    "    \"data\": {\n",
    "        \"window_size\": 24,\n",
    "        \"stride_length\": 1,\n",
    "        \"lead_time\": 1,\n",
    "        \"normalized\": True\n",
    "    },\n",
    "    \"model\": {\n",
    "        \"architecture\": \"GRAFFNN\",\n",
    "        \"num_layers\": 20,\n",
    "        \"hidden_channels\": 64,\n",
    "        \"param_sharing\": False,\n",
    "        \"graff_step_size\": 1,\n",
    "        \"edge_orientation\": \"downstream\",\n",
    "        \"adjacency_type\": \"learned\"\n",
    "    },\n",
    "    \"training\": {\n",
    "        \"num_epochs\": 20,\n",
    "        \"batch_size\": 16,\n",
    "        \"learning_rate\": 1e-4,\n",
    "        \"weight_decay\": 0,\n",
    "        \"random_seed\": 42,\n",
    "        \"holdout_size\": 0.25\n",
    "    }\n",
    "}"
   ]
  },
  {
   "cell_type": "code",
   "execution_count": null,
   "metadata": {},
   "outputs": [],
   "source": []
  },
  {
   "cell_type": "code",
   "execution_count": 3,
   "metadata": {
    "execution": {
     "iopub.execute_input": "2023-04-24T15:36:05.071879Z",
     "iopub.status.busy": "2023-04-24T15:36:05.071706Z",
     "iopub.status.idle": "2023-04-24T15:36:05.105240Z",
     "shell.execute_reply": "2023-04-24T15:36:05.104600Z",
     "shell.execute_reply.started": "2023-04-24T15:36:05.071861Z"
    },
    "id": "cSz0Dz2zkKGg"
   },
   "outputs": [],
   "source": [
    "functions.ensure_reproducibility(HPARAMS[\"training\"][\"random_seed\"])"
   ]
  },
  {
   "cell_type": "code",
   "execution_count": 5,
   "metadata": {
    "colab": {
     "base_uri": "https://localhost:8080/",
     "height": 517
    },
    "execution": {
     "iopub.execute_input": "2023-04-24T15:36:05.106108Z",
     "iopub.status.busy": "2023-04-24T15:36:05.105925Z"
    },
    "id": "JDW3LJlrbtfX",
    "outputId": "de09d2bd-7aac-417f-f875-5b308ca23a09"
   },
   "outputs": [
    {
     "name": "stdout",
     "output_type": "stream",
     "text": [
      "Loading dataset into memory...\n"
     ]
    },
    {
     "name": "stderr",
     "output_type": "stream",
     "text": [
      "100%|████████████████████████████████████████████████████████████████████████████████████████████████████████████████████████████████████████████████████████████████████| 375/375 [00:33<00:00, 11.31it/s]\n"
     ]
    },
    {
     "name": "stdout",
     "output_type": "stream",
     "text": [
      "=================================================================\n",
      "Layer (type:depth-idx)                   Param #\n",
      "=================================================================\n",
      "ResGCN                                   --\n",
      "├─Linear: 1-1                            1,600\n",
      "├─Linear: 1-2                            65\n",
      "├─ModuleList: 1-3                        --\n",
      "│    └─GCNConv: 2-1                      4,160\n",
      "│    └─GCNConv: 2-2                      4,160\n",
      "│    └─GCNConv: 2-3                      4,160\n",
      "│    └─GCNConv: 2-4                      4,160\n",
      "│    └─GCNConv: 2-5                      4,160\n",
      "│    └─GCNConv: 2-6                      4,160\n",
      "│    └─GCNConv: 2-7                      4,160\n",
      "│    └─GCNConv: 2-8                      4,160\n",
      "│    └─GCNConv: 2-9                      4,160\n",
      "│    └─GCNConv: 2-10                     4,160\n",
      "│    └─GCNConv: 2-11                     4,160\n",
      "│    └─GCNConv: 2-12                     4,160\n",
      "│    └─GCNConv: 2-13                     4,160\n",
      "│    └─GCNConv: 2-14                     4,160\n",
      "│    └─GCNConv: 2-15                     4,160\n",
      "│    └─GCNConv: 2-16                     4,160\n",
      "│    └─GCNConv: 2-17                     4,160\n",
      "│    └─GCNConv: 2-18                     4,160\n",
      "│    └─GCNConv: 2-19                     4,160\n",
      "│    └─GCNConv: 2-20                     4,160\n",
      "=================================================================\n",
      "Total params: 84,865\n",
      "Trainable params: 84,865\n",
      "Non-trainable params: 0\n",
      "=================================================================\n",
      "Training on cuda\n"
     ]
    },
    {
     "name": "stderr",
     "output_type": "stream",
     "text": [
      "Training: 100%|████████████████████████████████████████████████████████████████████████████████████████████████████████████████████████████████████████████████████████| 6557/6557 [04:33<00:00, 23.95it/s]\n",
      "Validating: 100%|██████████████████████████████████████████████████████████████████████████████████████████████████████████████████████████████████████████████████████| 2186/2186 [01:07<00:00, 32.29it/s]\n"
     ]
    },
    {
     "name": "stdout",
     "output_type": "stream",
     "text": [
      "[Epoch 1/20] Train: 98.6903 | Val 0.4913\n"
     ]
    },
    {
     "name": "stderr",
     "output_type": "stream",
     "text": [
      "Training: 100%|████████████████████████████████████████████████████████████████████████████████████████████████████████████████████████████████████████████████████████| 6557/6557 [04:32<00:00, 24.05it/s]\n",
      "Validating: 100%|██████████████████████████████████████████████████████████████████████████████████████████████████████████████████████████████████████████████████████| 2186/2186 [01:04<00:00, 33.84it/s]\n"
     ]
    },
    {
     "name": "stdout",
     "output_type": "stream",
     "text": [
      "[Epoch 2/20] Train: 1.3685 | Val 0.0992\n"
     ]
    },
    {
     "name": "stderr",
     "output_type": "stream",
     "text": [
      "Training: 100%|████████████████████████████████████████████████████████████████████████████████████████████████████████████████████████████████████████████████████████| 6557/6557 [04:27<00:00, 24.51it/s]\n",
      "Validating: 100%|██████████████████████████████████████████████████████████████████████████████████████████████████████████████████████████████████████████████████████| 2186/2186 [01:05<00:00, 33.35it/s]\n"
     ]
    },
    {
     "name": "stdout",
     "output_type": "stream",
     "text": [
      "[Epoch 3/20] Train: 0.1725 | Val 0.0415\n"
     ]
    },
    {
     "name": "stderr",
     "output_type": "stream",
     "text": [
      "Training: 100%|████████████████████████████████████████████████████████████████████████████████████████████████████████████████████████████████████████████████████████| 6557/6557 [04:32<00:00, 24.07it/s]\n",
      "Validating:  34%|██████████████████████████████████████████████████▉                                                                                                    | 738/2186 [00:22<00:43, 33.26it/s]\n"
     ]
    },
    {
     "ename": "KeyboardInterrupt",
     "evalue": "",
     "output_type": "error",
     "traceback": [
      "\u001b[0;31m---------------------------------------------------------------------------\u001b[0m",
      "\u001b[0;31mKeyboardInterrupt\u001b[0m                         Traceback (most recent call last)",
      "Cell \u001b[0;32mIn[5], line 5\u001b[0m\n\u001b[1;32m      3\u001b[0m dataset \u001b[38;5;241m=\u001b[39m functions\u001b[38;5;241m.\u001b[39mload_dataset(HPARAMS, \u001b[38;5;124m\"\u001b[39m\u001b[38;5;124mtrain\u001b[39m\u001b[38;5;124m\"\u001b[39m)\n\u001b[1;32m      4\u001b[0m model \u001b[38;5;241m=\u001b[39m functions\u001b[38;5;241m.\u001b[39mconstruct_model(HPARAMS, dataset)\n\u001b[0;32m----> 5\u001b[0m history \u001b[38;5;241m=\u001b[39m functions\u001b[38;5;241m.\u001b[39mtrain(model, dataset, HPARAMS, save_dir\u001b[38;5;241m=\u001b[39m\u001b[38;5;124m\"\u001b[39m\u001b[38;5;124mruns/resgcn_adj_type_downstream\u001b[39m\u001b[38;5;124m\"\u001b[39m)\n",
      "File \u001b[0;32m~/floodgnn/functions.py:155\u001b[0m, in \u001b[0;36mtrain\u001b[0;34m(model, dataset, hparams, save_dir)\u001b[0m\n\u001b[1;32m    153\u001b[0m \u001b[38;5;28;01mfor\u001b[39;00m epoch \u001b[38;5;129;01min\u001b[39;00m \u001b[38;5;28mrange\u001b[39m(hparams[\u001b[38;5;124m\"\u001b[39m\u001b[38;5;124mtraining\u001b[39m\u001b[38;5;124m\"\u001b[39m][\u001b[38;5;124m\"\u001b[39m\u001b[38;5;124mnum_epochs\u001b[39m\u001b[38;5;124m\"\u001b[39m]):\n\u001b[1;32m    154\u001b[0m     train_loss \u001b[38;5;241m=\u001b[39m train_step(model, train_loader, optimizer, device)\n\u001b[0;32m--> 155\u001b[0m     val_loss \u001b[38;5;241m=\u001b[39m val_step(model, val_loader, device)\n\u001b[1;32m    157\u001b[0m     history[\u001b[38;5;124m\"\u001b[39m\u001b[38;5;124mtrain_loss\u001b[39m\u001b[38;5;124m\"\u001b[39m]\u001b[38;5;241m.\u001b[39mappend(train_loss)\n\u001b[1;32m    158\u001b[0m     history[\u001b[38;5;124m\"\u001b[39m\u001b[38;5;124mval_loss\u001b[39m\u001b[38;5;124m\"\u001b[39m]\u001b[38;5;241m.\u001b[39mappend(val_loss)\n",
      "File \u001b[0;32m~/floodgnn/functions.py:130\u001b[0m, in \u001b[0;36mval_step\u001b[0;34m(model, val_loader, device)\u001b[0m\n\u001b[1;32m    128\u001b[0m \u001b[38;5;28;01mwith\u001b[39;00m torch\u001b[38;5;241m.\u001b[39mno_grad():\n\u001b[1;32m    129\u001b[0m     \u001b[38;5;28;01mfor\u001b[39;00m batch \u001b[38;5;129;01min\u001b[39;00m tqdm(val_loader, desc\u001b[38;5;241m=\u001b[39m\u001b[38;5;124m\"\u001b[39m\u001b[38;5;124mValidating\u001b[39m\u001b[38;5;124m\"\u001b[39m):\n\u001b[0;32m--> 130\u001b[0m         batch \u001b[38;5;241m=\u001b[39m batch\u001b[38;5;241m.\u001b[39mto(device)\n\u001b[1;32m    131\u001b[0m         out, loss \u001b[38;5;241m=\u001b[39m model(batch\u001b[38;5;241m.\u001b[39mx, batch\u001b[38;5;241m.\u001b[39medge_index, batch\u001b[38;5;241m.\u001b[39my)\n\u001b[1;32m    132\u001b[0m         val_loss \u001b[38;5;241m+\u001b[39m\u001b[38;5;241m=\u001b[39m loss\u001b[38;5;241m.\u001b[39mitem() \u001b[38;5;241m*\u001b[39m batch\u001b[38;5;241m.\u001b[39mnum_graphs \u001b[38;5;241m/\u001b[39m \u001b[38;5;28mlen\u001b[39m(val_loader\u001b[38;5;241m.\u001b[39mdataset)\n",
      "File \u001b[0;32m~/miniconda3/envs/floodgnn/lib/python3.11/site-packages/torch_geometric/data/data.py:262\u001b[0m, in \u001b[0;36mBaseData.to\u001b[0;34m(self, device, non_blocking, *args)\u001b[0m\n\u001b[1;32m    258\u001b[0m \u001b[38;5;28;01mdef\u001b[39;00m \u001b[38;5;21mto\u001b[39m(\u001b[38;5;28mself\u001b[39m, device: Union[\u001b[38;5;28mint\u001b[39m, \u001b[38;5;28mstr\u001b[39m], \u001b[38;5;241m*\u001b[39margs: List[\u001b[38;5;28mstr\u001b[39m],\n\u001b[1;32m    259\u001b[0m        non_blocking: \u001b[38;5;28mbool\u001b[39m \u001b[38;5;241m=\u001b[39m \u001b[38;5;28;01mFalse\u001b[39;00m):\n\u001b[1;32m    260\u001b[0m \u001b[38;5;250m    \u001b[39m\u001b[38;5;124mr\u001b[39m\u001b[38;5;124;03m\"\"\"Performs tensor device conversion, either for all attributes or\u001b[39;00m\n\u001b[1;32m    261\u001b[0m \u001b[38;5;124;03m    only the ones given in :obj:`*args`.\"\"\"\u001b[39;00m\n\u001b[0;32m--> 262\u001b[0m     \u001b[38;5;28;01mreturn\u001b[39;00m \u001b[38;5;28mself\u001b[39m\u001b[38;5;241m.\u001b[39mapply(\n\u001b[1;32m    263\u001b[0m         \u001b[38;5;28;01mlambda\u001b[39;00m x: x\u001b[38;5;241m.\u001b[39mto(device\u001b[38;5;241m=\u001b[39mdevice, non_blocking\u001b[38;5;241m=\u001b[39mnon_blocking), \u001b[38;5;241m*\u001b[39margs)\n",
      "File \u001b[0;32m~/miniconda3/envs/floodgnn/lib/python3.11/site-packages/torch_geometric/data/data.py:245\u001b[0m, in \u001b[0;36mBaseData.apply\u001b[0;34m(self, func, *args)\u001b[0m\n\u001b[1;32m    242\u001b[0m \u001b[38;5;250m\u001b[39m\u001b[38;5;124mr\u001b[39m\u001b[38;5;124;03m\"\"\"Applies the function :obj:`func`, either to all attributes or only\u001b[39;00m\n\u001b[1;32m    243\u001b[0m \u001b[38;5;124;03mthe ones given in :obj:`*args`.\"\"\"\u001b[39;00m\n\u001b[1;32m    244\u001b[0m \u001b[38;5;28;01mfor\u001b[39;00m store \u001b[38;5;129;01min\u001b[39;00m \u001b[38;5;28mself\u001b[39m\u001b[38;5;241m.\u001b[39mstores:\n\u001b[0;32m--> 245\u001b[0m     store\u001b[38;5;241m.\u001b[39mapply(func, \u001b[38;5;241m*\u001b[39margs)\n\u001b[1;32m    246\u001b[0m \u001b[38;5;28;01mreturn\u001b[39;00m \u001b[38;5;28mself\u001b[39m\n",
      "File \u001b[0;32m~/miniconda3/envs/floodgnn/lib/python3.11/site-packages/torch_geometric/data/storage.py:184\u001b[0m, in \u001b[0;36mBaseStorage.apply\u001b[0;34m(self, func, *args)\u001b[0m\n\u001b[1;32m    181\u001b[0m \u001b[38;5;250m\u001b[39m\u001b[38;5;124mr\u001b[39m\u001b[38;5;124;03m\"\"\"Applies the function :obj:`func`, either to all attributes or only\u001b[39;00m\n\u001b[1;32m    182\u001b[0m \u001b[38;5;124;03mthe ones given in :obj:`*args`.\"\"\"\u001b[39;00m\n\u001b[1;32m    183\u001b[0m \u001b[38;5;28;01mfor\u001b[39;00m key, value \u001b[38;5;129;01min\u001b[39;00m \u001b[38;5;28mself\u001b[39m\u001b[38;5;241m.\u001b[39mitems(\u001b[38;5;241m*\u001b[39margs):\n\u001b[0;32m--> 184\u001b[0m     \u001b[38;5;28mself\u001b[39m[key] \u001b[38;5;241m=\u001b[39m recursive_apply(value, func)\n\u001b[1;32m    185\u001b[0m \u001b[38;5;28;01mreturn\u001b[39;00m \u001b[38;5;28mself\u001b[39m\n",
      "File \u001b[0;32m~/miniconda3/envs/floodgnn/lib/python3.11/site-packages/torch_geometric/data/storage.py:682\u001b[0m, in \u001b[0;36mrecursive_apply\u001b[0;34m(data, func)\u001b[0m\n\u001b[1;32m    680\u001b[0m \u001b[38;5;28;01mdef\u001b[39;00m \u001b[38;5;21mrecursive_apply\u001b[39m(data: Any, func: Callable) \u001b[38;5;241m-\u001b[39m\u001b[38;5;241m>\u001b[39m Any:\n\u001b[1;32m    681\u001b[0m     \u001b[38;5;28;01mif\u001b[39;00m \u001b[38;5;28misinstance\u001b[39m(data, Tensor):\n\u001b[0;32m--> 682\u001b[0m         \u001b[38;5;28;01mreturn\u001b[39;00m func(data)\n\u001b[1;32m    683\u001b[0m     \u001b[38;5;28;01melif\u001b[39;00m \u001b[38;5;28misinstance\u001b[39m(data, torch\u001b[38;5;241m.\u001b[39mnn\u001b[38;5;241m.\u001b[39mutils\u001b[38;5;241m.\u001b[39mrnn\u001b[38;5;241m.\u001b[39mPackedSequence):\n\u001b[1;32m    684\u001b[0m         \u001b[38;5;28;01mreturn\u001b[39;00m func(data)\n",
      "File \u001b[0;32m~/miniconda3/envs/floodgnn/lib/python3.11/site-packages/torch_geometric/data/data.py:263\u001b[0m, in \u001b[0;36mBaseData.to.<locals>.<lambda>\u001b[0;34m(x)\u001b[0m\n\u001b[1;32m    258\u001b[0m \u001b[38;5;28;01mdef\u001b[39;00m \u001b[38;5;21mto\u001b[39m(\u001b[38;5;28mself\u001b[39m, device: Union[\u001b[38;5;28mint\u001b[39m, \u001b[38;5;28mstr\u001b[39m], \u001b[38;5;241m*\u001b[39margs: List[\u001b[38;5;28mstr\u001b[39m],\n\u001b[1;32m    259\u001b[0m        non_blocking: \u001b[38;5;28mbool\u001b[39m \u001b[38;5;241m=\u001b[39m \u001b[38;5;28;01mFalse\u001b[39;00m):\n\u001b[1;32m    260\u001b[0m \u001b[38;5;250m    \u001b[39m\u001b[38;5;124mr\u001b[39m\u001b[38;5;124;03m\"\"\"Performs tensor device conversion, either for all attributes or\u001b[39;00m\n\u001b[1;32m    261\u001b[0m \u001b[38;5;124;03m    only the ones given in :obj:`*args`.\"\"\"\u001b[39;00m\n\u001b[1;32m    262\u001b[0m     \u001b[38;5;28;01mreturn\u001b[39;00m \u001b[38;5;28mself\u001b[39m\u001b[38;5;241m.\u001b[39mapply(\n\u001b[0;32m--> 263\u001b[0m         \u001b[38;5;28;01mlambda\u001b[39;00m x: x\u001b[38;5;241m.\u001b[39mto(device\u001b[38;5;241m=\u001b[39mdevice, non_blocking\u001b[38;5;241m=\u001b[39mnon_blocking), \u001b[38;5;241m*\u001b[39margs)\n",
      "\u001b[0;31mKeyboardInterrupt\u001b[0m: "
     ]
    }
   ],
   "source": [
    "for value in [\"isolated\", \"binary\", \"stream_length\", \"elevation_difference\", \"average_slope\", \"learned\"]:\n",
    "    HPARAMS[\"model\"][\"adjacency_type\"] = value\n",
    "    dataset = functions.load_dataset(HPARAMS, \"train\")\n",
    "    model = functions.construct_model(HPARAMS, dataset)\n",
    "    history = functions.train(model, dataset, HPARAMS, save_dir=\"runs/resgcn_adj_type_downstream\")"
   ]
  }
 ],
 "metadata": {
  "accelerator": "GPU",
  "colab": {
   "provenance": []
  },
  "gpuClass": "standard",
  "kernelspec": {
   "display_name": "Python 3 (ipykernel)",
   "language": "python",
   "name": "python3"
  },
  "language_info": {
   "codemirror_mode": {
    "name": "ipython",
    "version": 3
   },
   "file_extension": ".py",
   "mimetype": "text/x-python",
   "name": "python",
   "nbconvert_exporter": "python",
   "pygments_lexer": "ipython3",
   "version": "3.11.4"
  }
 },
 "nbformat": 4,
 "nbformat_minor": 4
}
